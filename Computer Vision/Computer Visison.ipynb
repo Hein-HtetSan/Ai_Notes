{
 "cells": [
  {
   "cell_type": "markdown",
   "id": "76439512",
   "metadata": {},
   "source": [
    "## Performing face detection on a still image"
   ]
  },
  {
   "cell_type": "code",
   "execution_count": 7,
   "id": "ca4bae9a",
   "metadata": {},
   "outputs": [
    {
     "name": "stdout",
     "output_type": "stream",
     "text": [
      "Requirement already satisfied: opencv-python in c:\\users\\acer\\anaconda3\\lib\\site-packages (4.8.0.74)\n",
      "Requirement already satisfied: numpy>=1.19.3 in c:\\users\\acer\\anaconda3\\lib\\site-packages (from opencv-python) (1.21.5)\n",
      "Note: you may need to restart the kernel to use updated packages.\n"
     ]
    }
   ],
   "source": [
    "pip install opencv-python"
   ]
  },
  {
   "cell_type": "code",
   "execution_count": 8,
   "id": "2d914bb8",
   "metadata": {},
   "outputs": [],
   "source": [
    "import cv2"
   ]
  },
  {
   "cell_type": "code",
   "execution_count": 9,
   "id": "87d24e6c",
   "metadata": {
    "collapsed": true
   },
   "outputs": [
    {
     "ename": "AttributeError",
     "evalue": "module 'cv2' has no attribute 'destoryAllWindows'",
     "output_type": "error",
     "traceback": [
      "\u001b[1;31m---------------------------------------------------------------------------\u001b[0m",
      "\u001b[1;31mAttributeError\u001b[0m                            Traceback (most recent call last)",
      "\u001b[1;32m~\\AppData\\Local\\Temp\\ipykernel_15440\\3904906056.py\u001b[0m in \u001b[0;36m<module>\u001b[1;34m\u001b[0m\n\u001b[0;32m     16\u001b[0m \u001b[0mcv2\u001b[0m\u001b[1;33m.\u001b[0m\u001b[0mimshow\u001b[0m\u001b[1;33m(\u001b[0m\u001b[1;34m'Actor Detected!'\u001b[0m\u001b[1;33m,\u001b[0m \u001b[0mimg\u001b[0m\u001b[1;33m)\u001b[0m\u001b[1;33m\u001b[0m\u001b[1;33m\u001b[0m\u001b[0m\n\u001b[0;32m     17\u001b[0m \u001b[0mcv2\u001b[0m\u001b[1;33m.\u001b[0m\u001b[0mwaitKey\u001b[0m\u001b[1;33m(\u001b[0m\u001b[1;36m0\u001b[0m\u001b[1;33m)\u001b[0m\u001b[1;33m\u001b[0m\u001b[1;33m\u001b[0m\u001b[0m\n\u001b[1;32m---> 18\u001b[1;33m \u001b[0mcv2\u001b[0m\u001b[1;33m.\u001b[0m\u001b[0mdestoryAllWindows\u001b[0m\u001b[1;33m(\u001b[0m\u001b[1;33m)\u001b[0m\u001b[1;33m\u001b[0m\u001b[1;33m\u001b[0m\u001b[0m\n\u001b[0m\u001b[0;32m     19\u001b[0m \u001b[1;33m\u001b[0m\u001b[0m\n",
      "\u001b[1;31mAttributeError\u001b[0m: module 'cv2' has no attribute 'destoryAllWindows'"
     ]
    }
   ],
   "source": [
    "# define face detection function\n",
    "face_cascade = cv2.CascadeClassifier('C:/Users/acer/anaconda3/Lib/site-packages/cv2/data/haarcascade_frontalface_default.xml')\n",
    "# read still image and convert to Grayscale\n",
    "img = cv2.imread('../sci2.jpg')\n",
    "gray = cv2.cvtColor(img, cv2.COLOR_BGR2GRAY)\n",
    "                            \n",
    "# Detect face\n",
    "\n",
    "faces = face_cascade.detectMultiScale(gray, 1.3, 5)\n",
    "                                      \n",
    "# draw rectangle RDI\n",
    "for (x,y,w,h) in faces:\n",
    "    img = cv2.rectangle(img,(x,y),(x+w, y+h),(255,0,0),3)\n",
    "                                      \n",
    "# show face detected image\n",
    "cv2.imshow('Actor Detected!', img)\n",
    "cv2.waitKey(0)\n",
    "cv2.destoryAllWindows()\n",
    "                                      "
   ]
  },
  {
   "cell_type": "markdown",
   "id": "f61e7cba",
   "metadata": {},
   "source": [
    "## Performing real-time face detection on a camera"
   ]
  },
  {
   "cell_type": "code",
   "execution_count": 1,
   "id": "d52aa811",
   "metadata": {},
   "outputs": [],
   "source": [
    "import cv2"
   ]
  },
  {
   "cell_type": "code",
   "execution_count": 2,
   "id": "c3dd3a0c",
   "metadata": {
    "scrolled": true
   },
   "outputs": [
    {
     "name": "stdout",
     "output_type": "stream",
     "text": [
      "C:\\Users\\acer\\anaconda3\\lib\\site-packages\\cv2\\data\\\n"
     ]
    },
    {
     "ename": "AttributeError",
     "evalue": "module 'cv2' has no attribute 'destoryAllWindows'",
     "output_type": "error",
     "traceback": [
      "\u001b[1;31m---------------------------------------------------------------------------\u001b[0m",
      "\u001b[1;31mAttributeError\u001b[0m                            Traceback (most recent call last)",
      "\u001b[1;32m~\\AppData\\Local\\Temp\\ipykernel_7616\\3713686070.py\u001b[0m in \u001b[0;36m<module>\u001b[1;34m\u001b[0m\n\u001b[0;32m     20\u001b[0m         \u001b[1;32mbreak\u001b[0m\u001b[1;33m\u001b[0m\u001b[1;33m\u001b[0m\u001b[0m\n\u001b[0;32m     21\u001b[0m \u001b[0mcamera\u001b[0m\u001b[1;33m.\u001b[0m\u001b[0mrelease\u001b[0m\u001b[1;33m(\u001b[0m\u001b[1;33m)\u001b[0m\u001b[1;33m\u001b[0m\u001b[1;33m\u001b[0m\u001b[0m\n\u001b[1;32m---> 22\u001b[1;33m \u001b[0mcv2\u001b[0m\u001b[1;33m.\u001b[0m\u001b[0mdestoryAllWindows\u001b[0m\u001b[1;33m(\u001b[0m\u001b[1;33m)\u001b[0m\u001b[1;33m\u001b[0m\u001b[1;33m\u001b[0m\u001b[0m\n\u001b[0m",
      "\u001b[1;31mAttributeError\u001b[0m: module 'cv2' has no attribute 'destoryAllWindows'"
     ]
    }
   ],
   "source": [
    "face_cascade = cv2.CascadeClassifier('C:/Users/acer/anaconda3/Lib/site-packages/cv2/data/haarcascade_frontalface_default.xml')\n",
    "\n",
    "camera = cv2.VideoCapture(0)\n",
    "fps = 15 #frame per sec\n",
    "size = (int(camera.get(cv2.CAP_PROP_FRAME_WIDTH)),int(camera.get(cv2.CAP_PROP_FRAME_HEIGHT)))\n",
    "\n",
    "videoWriter = cv2.VideoWriter('', cv2.VideoWriter_fourcc('I', '4', '2', '0'), fps, size)\n",
    "\n",
    "print(cv2.data.haarcascades)\n",
    "\n",
    "while(True):\n",
    "    ret,frame = camera.read()\n",
    "    gray = cv2.cvtColor(frame, cv2.COLOR_BGR2GRAY)\n",
    "    faces = face_cascade.detectMultiScale(gray, 1.3, 5)\n",
    "    for(x,y,w,h) in faces:\n",
    "        img = cv2.rectangle(frame,(x,y),(x+w,y+h),(255,0,0),2)\n",
    "    cv2.imshow(\"camera\", frame)\n",
    "    videoWriter.write(frame)\n",
    "    if cv2.waitKey(1) & 0xff == ord(\"q\"):\n",
    "        break\n",
    "camera.release()\n",
    "cv2.destoryAllWindows()"
   ]
  },
  {
   "cell_type": "markdown",
   "id": "2a40f311",
   "metadata": {},
   "source": [
    "## Image segmentation"
   ]
  },
  {
   "cell_type": "markdown",
   "id": "dff3bff9",
   "metadata": {},
   "source": [
    "1. load the image, and create a mask populated with zeros with the same shape as the image loaded;"
   ]
  },
  {
   "cell_type": "code",
   "execution_count": 8,
   "id": "83aed6e2",
   "metadata": {},
   "outputs": [],
   "source": [
    "import numpy as np\n",
    "import cv2\n",
    "img = cv2.imread('jack.webp')\n",
    "mask = np.zeros(img.shape[:2], np.uint8)"
   ]
  },
  {
   "cell_type": "markdown",
   "id": "012ba5ff",
   "metadata": {},
   "source": [
    "2. create zero-filled foreground and background models"
   ]
  },
  {
   "cell_type": "code",
   "execution_count": 9,
   "id": "b3bf14ea",
   "metadata": {},
   "outputs": [],
   "source": [
    "bgdModel = np.zeros((1,65), np.float64)\n",
    "fgdModel = np.zeros((1,65), np.float64)"
   ]
  },
  {
   "cell_type": "markdown",
   "id": "17e21580",
   "metadata": {},
   "source": [
    "3. init the GrabCut algorithm with a rectangule identifying the subject to isolate and run the GrabCut algorithm specifying the empty models and mask"
   ]
  },
  {
   "cell_type": "code",
   "execution_count": 10,
   "id": "1fff2fd5",
   "metadata": {},
   "outputs": [
    {
     "data": {
      "text/plain": [
       "(array([[0, 0, 0, ..., 0, 0, 0],\n",
       "        [0, 0, 0, ..., 0, 0, 0],\n",
       "        [0, 0, 0, ..., 0, 0, 0],\n",
       "        ...,\n",
       "        [0, 0, 0, ..., 0, 0, 0],\n",
       "        [0, 0, 0, ..., 0, 0, 0],\n",
       "        [0, 0, 0, ..., 0, 0, 0]], dtype=uint8),\n",
       " array([[6.13090543e-01, 2.47111365e-02, 2.69919749e-01, 8.23359492e-02,\n",
       "         9.94262166e-03, 2.03573922e+02, 2.08064242e+02, 2.09804967e+02,\n",
       "         1.57022541e+02, 1.64060243e+02, 1.68761620e+02, 1.73365104e+02,\n",
       "         1.83614296e+02, 1.87528626e+02, 2.28469077e+02, 2.33066874e+02,\n",
       "         2.34302401e+02, 1.92949926e+01, 2.24323252e+01, 2.40917204e+01,\n",
       "         2.73727515e+00, 2.23264799e+00, 2.01232276e+00, 2.23264799e+00,\n",
       "         2.70939834e+00, 2.25105176e+00, 2.01232276e+00, 2.25105176e+00,\n",
       "         2.12255046e+00, 2.72826341e+03, 2.77965833e+03, 2.81014720e+03,\n",
       "         2.77965833e+03, 2.84775540e+03, 2.88008199e+03, 2.81014720e+03,\n",
       "         2.88008199e+03, 2.92362261e+03, 4.66521154e+02, 4.04598499e+02,\n",
       "         3.69629795e+02, 4.04598499e+02, 3.52954945e+02, 3.22432412e+02,\n",
       "         3.69629795e+02, 3.22432412e+02, 2.96704757e+02, 4.77106974e+01,\n",
       "         4.46017506e+01, 4.43609944e+01, 4.46017506e+01, 4.28593846e+01,\n",
       "         4.24479566e+01, 4.43609944e+01, 4.24479566e+01, 4.27454693e+01,\n",
       "         2.89207476e+02, 3.05453528e+02, 3.03710672e+02, 3.05453528e+02,\n",
       "         3.24985133e+02, 3.22761041e+02, 3.03710672e+02, 3.22761041e+02,\n",
       "         3.21398132e+02]]),\n",
       " array([[4.81651219e-01, 1.64431330e-01, 1.43605607e-01, 1.45745822e-01,\n",
       "         6.45660214e-02, 2.25501392e+02, 2.30734172e+02, 2.32766971e+02,\n",
       "         1.06259658e+02, 1.30435632e+02, 1.74734685e+02, 2.06281893e+02,\n",
       "         2.12082426e+02, 2.13956045e+02, 1.68125739e+02, 1.81080197e+02,\n",
       "         1.89821122e+02, 2.49774596e+01, 3.20208610e+01, 4.39626094e+01,\n",
       "         3.53406335e+01, 2.74415560e+01, 2.23716467e+01, 2.74415560e+01,\n",
       "         2.43689692e+01, 2.15880018e+01, 2.23716467e+01, 2.15880018e+01,\n",
       "         2.30027758e+01, 5.75271823e+02, 5.73983376e+02, 5.25397655e+02,\n",
       "         5.73983376e+02, 6.11968393e+02, 5.82809030e+02, 5.25397655e+02,\n",
       "         5.82809030e+02, 7.70459614e+02, 1.09969698e+02, 1.02947991e+02,\n",
       "         1.00055988e+02, 1.02947991e+02, 1.01112592e+02, 9.88423481e+01,\n",
       "         1.00055988e+02, 9.88423481e+01, 9.85570855e+01, 1.02781420e+03,\n",
       "         9.68147256e+02, 9.48865112e+02, 9.68147256e+02, 9.34054030e+02,\n",
       "         9.30539505e+02, 9.48865112e+02, 9.30539505e+02, 9.69897673e+02,\n",
       "         2.23529855e+02, 2.94583958e+02, 4.64349727e+02, 2.94583958e+02,\n",
       "         4.12686739e+02, 6.80440098e+02, 4.64349727e+02, 6.80440098e+02,\n",
       "         1.18925848e+03]]))"
      ]
     },
     "execution_count": 10,
     "metadata": {},
     "output_type": "execute_result"
    }
   ],
   "source": [
    "rect = (20, 20, 470, 800)\n",
    "cv2.grabCut(img, mask, rect, bgdModel, fgdModel, 5, cv2.GC_INIT_WITH_RECT)"
   ]
  },
  {
   "cell_type": "markdown",
   "id": "bc0f4725",
   "metadata": {},
   "source": [
    "4. After this, the values in the 'mask' between 0 and 3. The values, 0 and 2, will be converted into zeros, and 1-3 into onese"
   ]
  },
  {
   "cell_type": "code",
   "execution_count": 11,
   "id": "0a48f333",
   "metadata": {},
   "outputs": [],
   "source": [
    "mask2 = np.where((mask==2) | (mask==0), 0, 1).astype('uint8')"
   ]
  },
  {
   "cell_type": "markdown",
   "id": "cb8826c8",
   "metadata": {},
   "source": [
    "5. multiply the original image with mask2"
   ]
  },
  {
   "cell_type": "code",
   "execution_count": 12,
   "id": "287cd4ad",
   "metadata": {
    "collapsed": true
   },
   "outputs": [
    {
     "ename": "AttributeError",
     "evalue": "module 'cv2' has no attribute 'destoryAllWindows'",
     "output_type": "error",
     "traceback": [
      "\u001b[1;31m---------------------------------------------------------------------------\u001b[0m",
      "\u001b[1;31mAttributeError\u001b[0m                            Traceback (most recent call last)",
      "\u001b[1;32m~\\AppData\\Local\\Temp\\ipykernel_2412\\3678106497.py\u001b[0m in \u001b[0;36m<module>\u001b[1;34m\u001b[0m\n\u001b[0;32m      3\u001b[0m \u001b[0mcv2\u001b[0m\u001b[1;33m.\u001b[0m\u001b[0mimshow\u001b[0m\u001b[1;33m(\u001b[0m\u001b[1;34m'GrabCut'\u001b[0m\u001b[1;33m,\u001b[0m \u001b[0mimg_seg\u001b[0m\u001b[1;33m)\u001b[0m\u001b[1;33m\u001b[0m\u001b[1;33m\u001b[0m\u001b[0m\n\u001b[0;32m      4\u001b[0m \u001b[0mcv2\u001b[0m\u001b[1;33m.\u001b[0m\u001b[0mwaitKey\u001b[0m\u001b[1;33m(\u001b[0m\u001b[1;33m)\u001b[0m\u001b[1;33m\u001b[0m\u001b[1;33m\u001b[0m\u001b[0m\n\u001b[1;32m----> 5\u001b[1;33m \u001b[0mcv2\u001b[0m\u001b[1;33m.\u001b[0m\u001b[0mdestoryAllWindows\u001b[0m\u001b[1;33m(\u001b[0m\u001b[1;33m)\u001b[0m\u001b[1;33m\u001b[0m\u001b[1;33m\u001b[0m\u001b[0m\n\u001b[0m",
      "\u001b[1;31mAttributeError\u001b[0m: module 'cv2' has no attribute 'destoryAllWindows'"
     ]
    }
   ],
   "source": [
    "img_seg = img*mask2[:,:,np.newaxis]\n",
    "cv2.imshow('Original', img)\n",
    "cv2.imshow('GrabCut', img_seg)\n",
    "cv2.waitKey()\n",
    "cv2.destoryAllWindows()"
   ]
  },
  {
   "cell_type": "markdown",
   "id": "02c5996c",
   "metadata": {},
   "source": [
    "## Image segmentation with Watershed Algorithm"
   ]
  },
  {
   "cell_type": "markdown",
   "id": "180ab4aa",
   "metadata": {},
   "source": [
    "Load image and convert grayscale"
   ]
  },
  {
   "cell_type": "code",
   "execution_count": 2,
   "id": "a1a19be8",
   "metadata": {},
   "outputs": [],
   "source": [
    "import numpy as np\n",
    "import cv2\n",
    "img = cv2.imread('jack.webp')\n",
    "gray = cv2.cvtColor(img, cv2.COLOR_BGR2GRAY)"
   ]
  },
  {
   "cell_type": "markdown",
   "id": "508e08a4",
   "metadata": {},
   "source": [
    "Thresholding"
   ]
  },
  {
   "cell_type": "code",
   "execution_count": 3,
   "id": "bdf7ee42",
   "metadata": {},
   "outputs": [],
   "source": [
    "ret, thresh = cv2.threshold(gray, 0, 255, cv2.THRESH_BINARY_INV+cv2.THRESH_OTSU)"
   ]
  },
  {
   "cell_type": "markdown",
   "id": "73ad6d7e",
   "metadata": {},
   "source": [
    "Removing Noise using Morphology Transformation"
   ]
  },
  {
   "cell_type": "code",
   "execution_count": 4,
   "id": "3a0eca2e",
   "metadata": {},
   "outputs": [],
   "source": [
    "kernel = np.ones((3,3), np.uint8)\n",
    "opening = cv2.morphologyEx(thresh, cv2.MORPH_OPEN, kernel, iterations=3)"
   ]
  },
  {
   "cell_type": "markdown",
   "id": "2be7666f",
   "metadata": {},
   "source": [
    "Apply dilation to get sure background"
   ]
  },
  {
   "cell_type": "code",
   "execution_count": 5,
   "id": "72a65cec",
   "metadata": {},
   "outputs": [],
   "source": [
    "sure_bg = cv2.dilate(opening, kernel, iterations=5)"
   ]
  },
  {
   "cell_type": "markdown",
   "id": "eff8137b",
   "metadata": {},
   "source": [
    "Apply distance transformation to get sure foreground"
   ]
  },
  {
   "cell_type": "code",
   "execution_count": 6,
   "id": "01b15c02",
   "metadata": {},
   "outputs": [],
   "source": [
    "dist_transform = cv2.distanceTransform(opening, cv2.DIST_L2, 5)\n",
    "ret, sure_fg = cv2.threshold(dist_transform, 0.7*dist_transform.max(), 255, 0)"
   ]
  },
  {
   "cell_type": "markdown",
   "id": "17934983",
   "metadata": {},
   "source": [
    "Find unknown area"
   ]
  },
  {
   "cell_type": "code",
   "execution_count": 7,
   "id": "625645e7",
   "metadata": {},
   "outputs": [],
   "source": [
    "sure_fg = np.uint8(sure_fg)\n",
    "unknown = cv2.subtract(sure_bg, sure_fg)"
   ]
  },
  {
   "cell_type": "markdown",
   "id": "fd6c21cd",
   "metadata": {},
   "source": [
    "Build barrier to merge"
   ]
  },
  {
   "cell_type": "code",
   "execution_count": 8,
   "id": "0f374078",
   "metadata": {},
   "outputs": [],
   "source": [
    "ret, markers = cv2.connectedComponents(sure_fg)"
   ]
  },
  {
   "cell_type": "markdown",
   "id": "e27b8b62",
   "metadata": {},
   "source": [
    "Unknow stays at zeros and add 1 to background"
   ]
  },
  {
   "cell_type": "code",
   "execution_count": 9,
   "id": "2c27a849",
   "metadata": {},
   "outputs": [],
   "source": [
    "markers = markers+1\n",
    "markers[unknown==255] = 0"
   ]
  },
  {
   "cell_type": "markdown",
   "id": "90ede341",
   "metadata": {},
   "source": [
    "Fill water and draw barrier in blue color"
   ]
  },
  {
   "cell_type": "code",
   "execution_count": 10,
   "id": "23c47210",
   "metadata": {},
   "outputs": [],
   "source": [
    "markers = cv2.watershed(img, markers)\n",
    "img[markers == -1] = [255, 0, 0]\n",
    "cv2.imshow('Watershed_image', img)"
   ]
  }
 ],
 "metadata": {
  "kernelspec": {
   "display_name": "Python 3 (ipykernel)",
   "language": "python",
   "name": "python3"
  },
  "language_info": {
   "codemirror_mode": {
    "name": "ipython",
    "version": 3
   },
   "file_extension": ".py",
   "mimetype": "text/x-python",
   "name": "python",
   "nbconvert_exporter": "python",
   "pygments_lexer": "ipython3",
   "version": "3.9.13"
  }
 },
 "nbformat": 4,
 "nbformat_minor": 5
}
