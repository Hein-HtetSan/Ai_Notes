{
 "cells": [
  {
   "cell_type": "code",
   "execution_count": 17,
   "id": "99fd0042",
   "metadata": {},
   "outputs": [],
   "source": [
    "#import required libraries\n",
    "import numpy as np\n",
    "from numpy import array, hstack\n",
    "from tensorflow.keras.models import Sequential\n",
    "from tensorflow.keras.layers import LSTM, Dense"
   ]
  },
  {
   "cell_type": "markdown",
   "id": "dd5657b5",
   "metadata": {},
   "source": [
    "## Univariate LSTM \n"
   ]
  },
  {
   "cell_type": "code",
   "execution_count": 2,
   "id": "24180fdf",
   "metadata": {},
   "outputs": [],
   "source": [
    "#Define function to split a univariate sequence\n",
    "def split_sequence(sequence, n_steps):\n",
    "    X, y = list(), list()\n",
    "    for i in range(len(sequence)):\n",
    "        #find the end of this pattern\n",
    "        end_ix = i + n_steps\n",
    "        if end_ix > len(sequence)-1:\n",
    "            break\n",
    "        #gather input and output parts of the pattern\n",
    "        seq_x, seq_y = sequence[i:end_ix], sequence[end_ix]\n",
    "        X.append(seq_x)\n",
    "        y.append(seq_y)\n",
    "    return array(X), array(y)"
   ]
  },
  {
   "cell_type": "code",
   "execution_count": 3,
   "id": "53ceee76",
   "metadata": {},
   "outputs": [
    {
     "name": "stdout",
     "output_type": "stream",
     "text": [
      "[10 20 30] 40\n",
      "[20 30 40] 50\n",
      "[30 40 50] 60\n",
      "[40 50 60] 70\n",
      "[50 60 70] 80\n",
      "[60 70 80] 90\n",
      "[70 80 90] 100\n"
     ]
    }
   ],
   "source": [
    "#define input sequence\n",
    "raw_seq = [10,20,30,40,50,60,70,80,90,100]\n",
    "#choose a number of time steps\n",
    "n_steps = 3\n",
    "#split into samples\n",
    "X, y = split_sequence(raw_seq, n_steps)\n",
    "# summarize the data\n",
    "for i in range(len(X)):\n",
    "    print(X[i], y[i])"
   ]
  },
  {
   "cell_type": "code",
   "execution_count": 4,
   "id": "132a916b",
   "metadata": {},
   "outputs": [
    {
     "data": {
      "text/plain": [
       "(7, 3, 1)"
      ]
     },
     "execution_count": 4,
     "metadata": {},
     "output_type": "execute_result"
    }
   ],
   "source": [
    "#reshape from [sample, timestamps] into [samples, timestamps, features]\n",
    "n_features = 1\n",
    "X = X.reshape((X.shape[0], X.shape[1], n_features))\n",
    "X.shape"
   ]
  },
  {
   "cell_type": "code",
   "execution_count": 5,
   "id": "3c1c3ed2",
   "metadata": {},
   "outputs": [
    {
     "name": "stdout",
     "output_type": "stream",
     "text": [
      "Model: \"sequential\"\n",
      "_________________________________________________________________\n",
      " Layer (type)                Output Shape              Param #   \n",
      "=================================================================\n",
      " lstm (LSTM)                 (None, 100)               40800     \n",
      "                                                                 \n",
      " dense (Dense)               (None, 1)                 101       \n",
      "                                                                 \n",
      "=================================================================\n",
      "Total params: 40901 (159.77 KB)\n",
      "Trainable params: 40901 (159.77 KB)\n",
      "Non-trainable params: 0 (0.00 Byte)\n",
      "_________________________________________________________________\n"
     ]
    }
   ],
   "source": [
    "#define the model LSTM\n",
    "model = Sequential()\n",
    "model.add(LSTM(100, activation='relu', input_shape=(n_steps, n_features)))\n",
    "model.add(Dense(1))\n",
    "model.compile(optimizer='adam', loss='mse')\n",
    "model.summary()"
   ]
  },
  {
   "cell_type": "code",
   "execution_count": 6,
   "id": "98032573",
   "metadata": {},
   "outputs": [
    {
     "data": {
      "text/plain": [
       "<keras.src.callbacks.History at 0x1ccdc4af0a0>"
      ]
     },
     "execution_count": 6,
     "metadata": {},
     "output_type": "execute_result"
    }
   ],
   "source": [
    "#fit model\n",
    "model.fit(X, y, epochs=10, verbose=0)"
   ]
  },
  {
   "cell_type": "code",
   "execution_count": 8,
   "id": "ac4e0009",
   "metadata": {},
   "outputs": [
    {
     "name": "stdout",
     "output_type": "stream",
     "text": [
      "[[9.538371]]\n"
     ]
    }
   ],
   "source": [
    "# demonstrate prediction\n",
    "x_input = array([70, 80, 90])\n",
    "X_input = x_input.reshape((1, n_steps, n_features))\n",
    "yhat = model.predict(X_input, verbose=0)\n",
    "print(yhat)"
   ]
  },
  {
   "cell_type": "markdown",
   "id": "8a7a74f0",
   "metadata": {},
   "source": [
    "## Multivariate LSTM"
   ]
  },
  {
   "cell_type": "code",
   "execution_count": 9,
   "id": "a816bbbe",
   "metadata": {},
   "outputs": [],
   "source": [
    "#define function to split a multiple input sequence\n",
    "def split_sequence1(sequence, n_steps):\n",
    "    X, y = list(), list()\n",
    "    for i in range(len(sequence)):\n",
    "        #find the end of this pattern\n",
    "        end_ix = i + n_steps\n",
    "        #check if we are beyond the sequence\n",
    "        if end_ix > len(sequence)-1:\n",
    "            break\n",
    "        #gather input and output parts of the patterns\n",
    "        seq_x, seq_y = sequence[i:end_ix,:-1], sequence[end_ix-1,-1]\n",
    "        X.append(seq_x)\n",
    "        y.append(seq_y)\n",
    "    return array(X), array(y)"
   ]
  },
  {
   "cell_type": "code",
   "execution_count": 19,
   "id": "72a6fe03",
   "metadata": {},
   "outputs": [
    {
     "data": {
      "text/plain": [
       "array([[ 10.  ,   5.  ,  30.  ],\n",
       "       [ 20.  ,  10.15,  50.  ],\n",
       "       [ 30.  ,  20.  ,  70.  ],\n",
       "       [ 40.  ,  25.  ,  90.  ],\n",
       "       [ 50.  ,  30.  , 110.  ],\n",
       "       [ 60.  ,  35.  , 130.  ],\n",
       "       [ 70.  ,  40.  , 150.  ],\n",
       "       [ 80.  ,  45.  , 170.  ],\n",
       "       [ 90.  ,  50.  , 190.  ],\n",
       "       [100.  ,   0.  , 210.  ]])"
      ]
     },
     "execution_count": 19,
     "metadata": {},
     "output_type": "execute_result"
    }
   ],
   "source": [
    "#define input sequence\n",
    "in_seq1 = array([10,20,30,40,50,60,70,80,90,100])\n",
    "in_seq2 = array([5,10.15,20,25,30,35,40,45,50])\n",
    "in_seq3 = array([30,50,70,90,110,130,150,170,190,210])\n",
    "#convert to [rows, columns] structure\n",
    "max_length = max(len(in_seq1), len(in_seq2), len(in_seq3))\n",
    "\n",
    "# Pad the shorter sequences to match the maximum length\n",
    "in_seq1 = np.pad(in_seq1, (0, max_length - len(in_seq1)), mode='constant')\n",
    "in_seq2 = np.pad(in_seq2, (0, max_length - len(in_seq2)), mode='constant')\n",
    "in_seq3 = np.pad(in_seq3, (0, max_length - len(in_seq3)), mode='constant')\n",
    "\n",
    "# Convert to [rows, columns] structure\n",
    "in_seq1 = in_seq1.reshape((len(in_seq1), 1))\n",
    "in_seq2 = in_seq2.reshape((len(in_seq2), 1))\n",
    "in_seq3 = in_seq3.reshape((len(in_seq3), 1))\n",
    "#horizontally stack columns\n",
    "dataset = np.hstack((in_seq1, in_seq2, in_seq3))\n",
    "dataset"
   ]
  },
  {
   "cell_type": "code",
   "execution_count": 20,
   "id": "36e735f3",
   "metadata": {},
   "outputs": [
    {
     "name": "stdout",
     "output_type": "stream",
     "text": [
      "(7, 3, 2) (7,)\n",
      "[[10.    5.  ]\n",
      " [20.   10.15]\n",
      " [30.   20.  ]] 70.0\n",
      "[[20.   10.15]\n",
      " [30.   20.  ]\n",
      " [40.   25.  ]] 90.0\n",
      "[[30. 20.]\n",
      " [40. 25.]\n",
      " [50. 30.]] 110.0\n",
      "[[40. 25.]\n",
      " [50. 30.]\n",
      " [60. 35.]] 130.0\n",
      "[[50. 30.]\n",
      " [60. 35.]\n",
      " [70. 40.]] 150.0\n",
      "[[60. 35.]\n",
      " [70. 40.]\n",
      " [80. 45.]] 170.0\n",
      "[[70. 40.]\n",
      " [80. 45.]\n",
      " [90. 50.]] 190.0\n"
     ]
    }
   ],
   "source": [
    "#choose a number of time steps\n",
    "n_steps = 3\n",
    "#convert into input/output\n",
    "X, y = split_sequence1(dataset, n_steps)\n",
    "print(X.shape, y.shape)\n",
    "# summarize the data\n",
    "for i in range(len(X)):\n",
    "    print(X[i], y[i])"
   ]
  },
  {
   "cell_type": "code",
   "execution_count": 22,
   "id": "d066b0ca",
   "metadata": {},
   "outputs": [
    {
     "data": {
      "text/plain": [
       "(7, 3, 2)"
      ]
     },
     "execution_count": 22,
     "metadata": {},
     "output_type": "execute_result"
    }
   ],
   "source": [
    "# reshape from [samples, timesteps] into [samples, timesteps, features]\n",
    "n_features = 2\n",
    "X = X.reshape((X.shape[0], X.shape[1], n_features))\n",
    "X.shape"
   ]
  },
  {
   "cell_type": "code",
   "execution_count": 23,
   "id": "f85420c0",
   "metadata": {},
   "outputs": [
    {
     "name": "stdout",
     "output_type": "stream",
     "text": [
      "Model: \"sequential_1\"\n",
      "_________________________________________________________________\n",
      " Layer (type)                Output Shape              Param #   \n",
      "=================================================================\n",
      " lstm_1 (LSTM)               (None, 100)               41200     \n",
      "                                                                 \n",
      " dense_1 (Dense)             (None, 1)                 101       \n",
      "                                                                 \n",
      "=================================================================\n",
      "Total params: 41301 (161.33 KB)\n",
      "Trainable params: 41301 (161.33 KB)\n",
      "Non-trainable params: 0 (0.00 Byte)\n",
      "_________________________________________________________________\n"
     ]
    }
   ],
   "source": [
    "#define model (vanillia LSTM)\n",
    "model = Sequential()\n",
    "model.add(LSTM(100, activation='relu', input_shape=(n_steps, n_features)))\n",
    "model.add(Dense(1))\n",
    "model.compile(optimizer='adam', loss='mse')\n",
    "model.summary()"
   ]
  },
  {
   "cell_type": "code",
   "execution_count": 24,
   "id": "434150f4",
   "metadata": {},
   "outputs": [
    {
     "data": {
      "text/plain": [
       "<keras.src.callbacks.History at 0x1ccdeb968b0>"
      ]
     },
     "execution_count": 24,
     "metadata": {},
     "output_type": "execute_result"
    }
   ],
   "source": [
    "model.fit(X, y, epochs=100, verbose=0)"
   ]
  },
  {
   "cell_type": "code",
   "execution_count": 26,
   "id": "2fc12c3b",
   "metadata": {},
   "outputs": [
    {
     "name": "stdout",
     "output_type": "stream",
     "text": [
      "[[184.90744]]\n"
     ]
    }
   ],
   "source": [
    "#demonstrate prediction\n",
    "x_input = array([[70,35],[80,40],[90,45]])\n",
    "x_input = x_input.reshape((1, n_steps, n_features))\n",
    "yhat = model.predict(x_input, verbose=0)\n",
    "print(yhat)"
   ]
  },
  {
   "cell_type": "code",
   "execution_count": null,
   "id": "26009ed4",
   "metadata": {},
   "outputs": [],
   "source": []
  }
 ],
 "metadata": {
  "kernelspec": {
   "display_name": "Python 3 (ipykernel)",
   "language": "python",
   "name": "python3"
  },
  "language_info": {
   "codemirror_mode": {
    "name": "ipython",
    "version": 3
   },
   "file_extension": ".py",
   "mimetype": "text/x-python",
   "name": "python",
   "nbconvert_exporter": "python",
   "pygments_lexer": "ipython3",
   "version": "3.9.13"
  }
 },
 "nbformat": 4,
 "nbformat_minor": 5
}
