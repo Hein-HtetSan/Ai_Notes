{
 "cells": [
  {
   "cell_type": "code",
   "execution_count": 1,
   "id": "41f6346b",
   "metadata": {},
   "outputs": [],
   "source": [
    "import numpy as np\n",
    "import matplotlib.pyplot as plt\n",
    "import pandas as pd\n",
    "from tensorflow.keras.models import Sequential\n",
    "from tensorflow.keras.layers import LSTM, Dense\n",
    "from sklearn.preprocessing import MinMaxScaler\n",
    "%matplotlib inline"
   ]
  },
  {
   "cell_type": "code",
   "execution_count": 2,
   "id": "01d11a08",
   "metadata": {},
   "outputs": [
    {
     "data": {
      "text/html": [
       "<div>\n",
       "<style scoped>\n",
       "    .dataframe tbody tr th:only-of-type {\n",
       "        vertical-align: middle;\n",
       "    }\n",
       "\n",
       "    .dataframe tbody tr th {\n",
       "        vertical-align: top;\n",
       "    }\n",
       "\n",
       "    .dataframe thead th {\n",
       "        text-align: right;\n",
       "    }\n",
       "</style>\n",
       "<table border=\"1\" class=\"dataframe\">\n",
       "  <thead>\n",
       "    <tr style=\"text-align: right;\">\n",
       "      <th></th>\n",
       "      <th>Month</th>\n",
       "      <th>#Passengers</th>\n",
       "    </tr>\n",
       "  </thead>\n",
       "  <tbody>\n",
       "    <tr>\n",
       "      <th>0</th>\n",
       "      <td>1949-01</td>\n",
       "      <td>112</td>\n",
       "    </tr>\n",
       "    <tr>\n",
       "      <th>1</th>\n",
       "      <td>1949-02</td>\n",
       "      <td>118</td>\n",
       "    </tr>\n",
       "    <tr>\n",
       "      <th>2</th>\n",
       "      <td>1949-03</td>\n",
       "      <td>132</td>\n",
       "    </tr>\n",
       "    <tr>\n",
       "      <th>3</th>\n",
       "      <td>1949-04</td>\n",
       "      <td>129</td>\n",
       "    </tr>\n",
       "    <tr>\n",
       "      <th>4</th>\n",
       "      <td>1949-05</td>\n",
       "      <td>121</td>\n",
       "    </tr>\n",
       "    <tr>\n",
       "      <th>5</th>\n",
       "      <td>1949-06</td>\n",
       "      <td>135</td>\n",
       "    </tr>\n",
       "    <tr>\n",
       "      <th>6</th>\n",
       "      <td>1949-07</td>\n",
       "      <td>148</td>\n",
       "    </tr>\n",
       "    <tr>\n",
       "      <th>7</th>\n",
       "      <td>1949-08</td>\n",
       "      <td>148</td>\n",
       "    </tr>\n",
       "    <tr>\n",
       "      <th>8</th>\n",
       "      <td>1949-09</td>\n",
       "      <td>136</td>\n",
       "    </tr>\n",
       "    <tr>\n",
       "      <th>9</th>\n",
       "      <td>1949-10</td>\n",
       "      <td>119</td>\n",
       "    </tr>\n",
       "  </tbody>\n",
       "</table>\n",
       "</div>"
      ],
      "text/plain": [
       "     Month  #Passengers\n",
       "0  1949-01          112\n",
       "1  1949-02          118\n",
       "2  1949-03          132\n",
       "3  1949-04          129\n",
       "4  1949-05          121\n",
       "5  1949-06          135\n",
       "6  1949-07          148\n",
       "7  1949-08          148\n",
       "8  1949-09          136\n",
       "9  1949-10          119"
      ]
     },
     "execution_count": 2,
     "metadata": {},
     "output_type": "execute_result"
    }
   ],
   "source": [
    "data = pd.read_csv(r'AirPassengers.csv')\n",
    "data.head(10)"
   ]
  },
  {
   "cell_type": "code",
   "execution_count": 3,
   "id": "ce9bb134",
   "metadata": {},
   "outputs": [
    {
     "data": {
      "text/html": [
       "<div>\n",
       "<style scoped>\n",
       "    .dataframe tbody tr th:only-of-type {\n",
       "        vertical-align: middle;\n",
       "    }\n",
       "\n",
       "    .dataframe tbody tr th {\n",
       "        vertical-align: top;\n",
       "    }\n",
       "\n",
       "    .dataframe thead th {\n",
       "        text-align: right;\n",
       "    }\n",
       "</style>\n",
       "<table border=\"1\" class=\"dataframe\">\n",
       "  <thead>\n",
       "    <tr style=\"text-align: right;\">\n",
       "      <th></th>\n",
       "      <th>Month</th>\n",
       "      <th>#Passengers</th>\n",
       "    </tr>\n",
       "  </thead>\n",
       "  <tbody>\n",
       "    <tr>\n",
       "      <th>139</th>\n",
       "      <td>1960-08</td>\n",
       "      <td>606</td>\n",
       "    </tr>\n",
       "    <tr>\n",
       "      <th>140</th>\n",
       "      <td>1960-09</td>\n",
       "      <td>508</td>\n",
       "    </tr>\n",
       "    <tr>\n",
       "      <th>141</th>\n",
       "      <td>1960-10</td>\n",
       "      <td>461</td>\n",
       "    </tr>\n",
       "    <tr>\n",
       "      <th>142</th>\n",
       "      <td>1960-11</td>\n",
       "      <td>390</td>\n",
       "    </tr>\n",
       "    <tr>\n",
       "      <th>143</th>\n",
       "      <td>1960-12</td>\n",
       "      <td>432</td>\n",
       "    </tr>\n",
       "  </tbody>\n",
       "</table>\n",
       "</div>"
      ],
      "text/plain": [
       "       Month  #Passengers\n",
       "139  1960-08          606\n",
       "140  1960-09          508\n",
       "141  1960-10          461\n",
       "142  1960-11          390\n",
       "143  1960-12          432"
      ]
     },
     "execution_count": 3,
     "metadata": {},
     "output_type": "execute_result"
    }
   ],
   "source": [
    "data.tail()"
   ]
  },
  {
   "cell_type": "code",
   "execution_count": 4,
   "id": "c03884f6",
   "metadata": {},
   "outputs": [
    {
     "data": {
      "text/plain": [
       "(144, 2)"
      ]
     },
     "execution_count": 4,
     "metadata": {},
     "output_type": "execute_result"
    }
   ],
   "source": [
    "data.shape"
   ]
  },
  {
   "cell_type": "code",
   "execution_count": 5,
   "id": "5d4ee144",
   "metadata": {},
   "outputs": [
    {
     "name": "stdout",
     "output_type": "stream",
     "text": [
      "<class 'pandas.core.frame.DataFrame'>\n",
      "RangeIndex: 144 entries, 0 to 143\n",
      "Data columns (total 2 columns):\n",
      " #   Column       Non-Null Count  Dtype \n",
      "---  ------       --------------  ----- \n",
      " 0   Month        144 non-null    object\n",
      " 1   #Passengers  144 non-null    int64 \n",
      "dtypes: int64(1), object(1)\n",
      "memory usage: 2.4+ KB\n"
     ]
    }
   ],
   "source": [
    "data.info()"
   ]
  },
  {
   "cell_type": "code",
   "execution_count": 6,
   "id": "c1947004",
   "metadata": {},
   "outputs": [
    {
     "data": {
      "text/plain": [
       "Text(0.5, 1.0, 'Number of Passengers accoring to Months')"
      ]
     },
     "execution_count": 6,
     "metadata": {},
     "output_type": "execute_result"
    },
    {
     "data": {
      "image/png": "[encoded data removed]",
      "text/plain": [
       "<Figure size 1200x800 with 1 Axes>"
      ]
     },
     "metadata": {},
     "output_type": "display_data"
    }
   ],
   "source": [
    "plt.figure(figsize=(12,8))\n",
    "plt.plot(data[\"#Passengers\"])\n",
    "plt.title(\"Number of Passengers accoring to Months\")"
   ]
  },
  {
   "cell_type": "code",
   "execution_count": 7,
   "id": "bcc4e30e",
   "metadata": {},
   "outputs": [],
   "source": [
    "dataset = data.drop(columns=\"Month\")"
   ]
  },
  {
   "cell_type": "code",
   "execution_count": 8,
   "id": "be6f04ba",
   "metadata": {},
   "outputs": [],
   "source": [
    "dataset = dataset.astype('float32')"
   ]
  },
  {
   "cell_type": "code",
   "execution_count": 9,
   "id": "b5b17b12",
   "metadata": {},
   "outputs": [],
   "source": [
    "#define function to split sequecne\n",
    "def split_sequence(sequence, n_steps):\n",
    "    X, y = list(), list()\n",
    "    for i in range(len(sequence)):\n",
    "        #find the end of this pattern\n",
    "        end_ix = i + n_steps\n",
    "        #check if we are beyond the sequence\n",
    "        if end_ix > len(sequence)-1:\n",
    "            break\n",
    "        #gather input and output parts of the pattern\n",
    "        seq_x, seq_y = sequence[i:end_ix], sequence[end_ix]\n",
    "        X.append(seq_x)\n",
    "        y.append(seq_y)\n",
    "    return np.array(X), np.array(y)"
   ]
  },
  {
   "cell_type": "code",
   "execution_count": 10,
   "id": "7e4ae740",
   "metadata": {},
   "outputs": [],
   "source": [
    "scaler = MinMaxScaler(feature_range=(0,1))\n",
    "dataset = scaler.fit_transform(dataset)"
   ]
  },
  {
   "cell_type": "code",
   "execution_count": 11,
   "id": "3cf58ab1",
   "metadata": {},
   "outputs": [
    {
     "name": "stdout",
     "output_type": "stream",
     "text": [
      "96 48\n"
     ]
    }
   ],
   "source": [
    "train_size = int(len(dataset) * 0.67)\n",
    "train, test = dataset[0:train_size,:], dataset[train_size:len(dataset),:]\n",
    "print(len(train), len(test))"
   ]
  },
  {
   "cell_type": "code",
   "execution_count": 12,
   "id": "2177eb2b",
   "metadata": {},
   "outputs": [],
   "source": [
    "n_steps = 12\n",
    "X_train, y_train = split_sequence(train, n_steps)\n",
    "X_test, y_test = split_sequence(test, n_steps)"
   ]
  },
  {
   "cell_type": "code",
   "execution_count": 13,
   "id": "d5936d36",
   "metadata": {},
   "outputs": [
    {
     "data": {
      "text/plain": [
       "array([[[0.01544401],\n",
       "        [0.02702703],\n",
       "        [0.05405405],\n",
       "        [0.04826255],\n",
       "        [0.03281853],\n",
       "        [0.05984557],\n",
       "        [0.08494207],\n",
       "        [0.08494207],\n",
       "        [0.06177607],\n",
       "        [0.02895753],\n",
       "        [0.        ],\n",
       "        [0.02702703]],\n",
       "\n",
       "       [[0.02702703],\n",
       "        [0.05405405],\n",
       "        [0.04826255],\n",
       "        [0.03281853],\n",
       "        [0.05984557],\n",
       "        [0.08494207],\n",
       "        [0.08494207],\n",
       "        [0.06177607],\n",
       "        [0.02895753],\n",
       "        [0.        ],\n",
       "        [0.02702703],\n",
       "        [0.02123553]],\n",
       "\n",
       "       [[0.05405405],\n",
       "        [0.04826255],\n",
       "        [0.03281853],\n",
       "        [0.05984557],\n",
       "        [0.08494207],\n",
       "        [0.08494207],\n",
       "        [0.06177607],\n",
       "        [0.02895753],\n",
       "        [0.        ],\n",
       "        [0.02702703],\n",
       "        [0.02123553],\n",
       "        [0.04247104]]], dtype=float32)"
      ]
     },
     "execution_count": 13,
     "metadata": {},
     "output_type": "execute_result"
    }
   ],
   "source": [
    "X_train[:3]"
   ]
  },
  {
   "cell_type": "code",
   "execution_count": 14,
   "id": "d3159fa5",
   "metadata": {},
   "outputs": [
    {
     "data": {
      "text/plain": [
       "array([[0.02123553],\n",
       "       [0.04247104],\n",
       "       [0.07142857]], dtype=float32)"
      ]
     },
     "execution_count": 14,
     "metadata": {},
     "output_type": "execute_result"
    }
   ],
   "source": [
    "y_train[:3]"
   ]
  },
  {
   "cell_type": "code",
   "execution_count": 15,
   "id": "856def5f",
   "metadata": {},
   "outputs": [],
   "source": [
    "n_features = 1\n",
    "X_train = X_train.reshape((X_train.shape[0], X_train.shape[1], n_features))\n",
    "X_test = X_test.reshape((X_test.shape[0], X_test.shape[1], n_features))"
   ]
  },
  {
   "cell_type": "code",
   "execution_count": 37,
   "id": "e591d988",
   "metadata": {},
   "outputs": [
    {
     "name": "stdout",
     "output_type": "stream",
     "text": [
      "Model: \"sequential_3\"\n",
      "_________________________________________________________________\n",
      " Layer (type)                Output Shape              Param #   \n",
      "=================================================================\n",
      " lstm_7 (LSTM)               (None, 12, 50)            10400     \n",
      "                                                                 \n",
      " lstm_8 (LSTM)               (None, 50)                20200     \n",
      "                                                                 \n",
      " dense_3 (Dense)             (None, 64)                3264      \n",
      "                                                                 \n",
      " dense_4 (Dense)             (None, 32)                2080      \n",
      "                                                                 \n",
      " dense_5 (Dense)             (None, 1)                 33        \n",
      "                                                                 \n",
      "=================================================================\n",
      "Total params: 35977 (140.54 KB)\n",
      "Trainable params: 35977 (140.54 KB)\n",
      "Non-trainable params: 0 (0.00 Byte)\n",
      "_________________________________________________________________\n"
     ]
    }
   ],
   "source": [
    "model = Sequential()\n",
    "model.add(LSTM(50, activation='relu', return_sequences=True, input_shape=(n_steps, n_features)))\n",
    "model.add(LSTM(50, activation='relu'))\n",
    "model.add(Dense(64, activation='relu'))\n",
    "model.add(Dense(32, activation='relu'))\n",
    "model.add(Dense(1))\n",
    "model.compile(optimizer='adam',loss='mse')\n",
    "model.summary()"
   ]
  },
  {
   "cell_type": "code",
   "execution_count": 17,
   "id": "0b47ff30",
   "metadata": {},
   "outputs": [
    {
     "name": "stdout",
     "output_type": "stream",
     "text": [
      "Epoch 1/200\n",
      "3/3 [==============================] - 4s 24ms/step - loss: 0.0713\n",
      "Epoch 2/200\n",
      "3/3 [==============================] - 0s 16ms/step - loss: 0.0580\n",
      "Epoch 3/200\n",
      "3/3 [==============================] - 0s 17ms/step - loss: 0.0453\n",
      "Epoch 4/200\n",
      "3/3 [==============================] - 0s 18ms/step - loss: 0.0328\n",
      "Epoch 5/200\n",
      "3/3 [==============================] - 0s 26ms/step - loss: 0.0210\n",
      "Epoch 6/200\n",
      "3/3 [==============================] - 0s 22ms/step - loss: 0.0108\n",
      "Epoch 7/200\n",
      "3/3 [==============================] - 0s 15ms/step - loss: 0.0094\n",
      "Epoch 8/200\n",
      "3/3 [==============================] - 0s 17ms/step - loss: 0.0123\n",
      "Epoch 9/200\n",
      "3/3 [==============================] - 0s 16ms/step - loss: 0.0108\n",
      "Epoch 10/200\n",
      "3/3 [==============================] - 0s 18ms/step - loss: 0.0077\n",
      "Epoch 11/200\n",
      "3/3 [==============================] - 0s 20ms/step - loss: 0.0073\n",
      "Epoch 12/200\n",
      "3/3 [==============================] - 0s 21ms/step - loss: 0.0082\n",
      "Epoch 13/200\n",
      "3/3 [==============================] - 0s 17ms/step - loss: 0.0081\n",
      "Epoch 14/200\n",
      "3/3 [==============================] - 0s 18ms/step - loss: 0.0071\n",
      "Epoch 15/200\n",
      "3/3 [==============================] - 0s 30ms/step - loss: 0.0062\n",
      "Epoch 16/200\n",
      "3/3 [==============================] - 0s 39ms/step - loss: 0.0058\n",
      "Epoch 17/200\n",
      "3/3 [==============================] - 0s 39ms/step - loss: 0.0057\n",
      "Epoch 18/200\n",
      "3/3 [==============================] - 0s 18ms/step - loss: 0.0052\n",
      "Epoch 19/200\n",
      "3/3 [==============================] - 0s 33ms/step - loss: 0.0049\n",
      "Epoch 20/200\n",
      "3/3 [==============================] - 0s 40ms/step - loss: 0.0047\n",
      "Epoch 21/200\n",
      "3/3 [==============================] - 0s 39ms/step - loss: 0.0046\n",
      "Epoch 22/200\n",
      "3/3 [==============================] - 0s 37ms/step - loss: 0.0044\n",
      "Epoch 23/200\n",
      "3/3 [==============================] - 0s 41ms/step - loss: 0.0045\n",
      "Epoch 24/200\n",
      "3/3 [==============================] - 0s 21ms/step - loss: 0.0043\n",
      "Epoch 25/200\n",
      "3/3 [==============================] - 0s 17ms/step - loss: 0.0046\n",
      "Epoch 26/200\n",
      "3/3 [==============================] - 0s 16ms/step - loss: 0.0044\n",
      "Epoch 27/200\n",
      "3/3 [==============================] - 0s 16ms/step - loss: 0.0042\n",
      "Epoch 28/200\n",
      "3/3 [==============================] - 0s 23ms/step - loss: 0.0043\n",
      "Epoch 29/200\n",
      "3/3 [==============================] - 0s 37ms/step - loss: 0.0044\n",
      "Epoch 30/200\n",
      "3/3 [==============================] - 0s 19ms/step - loss: 0.0043\n",
      "Epoch 31/200\n",
      "3/3 [==============================] - 0s 29ms/step - loss: 0.0043\n",
      "Epoch 32/200\n",
      "3/3 [==============================] - 0s 41ms/step - loss: 0.0043\n",
      "Epoch 33/200\n",
      "3/3 [==============================] - 0s 39ms/step - loss: 0.0042\n",
      "Epoch 34/200\n",
      "3/3 [==============================] - 0s 36ms/step - loss: 0.0041\n",
      "Epoch 35/200\n",
      "3/3 [==============================] - 0s 37ms/step - loss: 0.0041\n",
      "Epoch 36/200\n",
      "3/3 [==============================] - 0s 24ms/step - loss: 0.0041\n",
      "Epoch 37/200\n",
      "3/3 [==============================] - 0s 18ms/step - loss: 0.0042\n",
      "Epoch 38/200\n",
      "3/3 [==============================] - 0s 15ms/step - loss: 0.0041\n",
      "Epoch 39/200\n",
      "3/3 [==============================] - 0s 15ms/step - loss: 0.0041\n",
      "Epoch 40/200\n",
      "3/3 [==============================] - 0s 16ms/step - loss: 0.0041\n",
      "Epoch 41/200\n",
      "3/3 [==============================] - 0s 17ms/step - loss: 0.0040\n",
      "Epoch 42/200\n",
      "3/3 [==============================] - 0s 17ms/step - loss: 0.0041\n",
      "Epoch 43/200\n",
      "3/3 [==============================] - 0s 18ms/step - loss: 0.0041\n",
      "Epoch 44/200\n",
      "3/3 [==============================] - 0s 29ms/step - loss: 0.0040\n",
      "Epoch 45/200\n",
      "3/3 [==============================] - 0s 15ms/step - loss: 0.0041\n",
      "Epoch 46/200\n",
      "3/3 [==============================] - 0s 16ms/step - loss: 0.0040\n",
      "Epoch 47/200\n",
      "3/3 [==============================] - 0s 16ms/step - loss: 0.0039\n",
      "Epoch 48/200\n",
      "3/3 [==============================] - 0s 32ms/step - loss: 0.0040\n",
      "Epoch 49/200\n",
      "3/3 [==============================] - 0s 34ms/step - loss: 0.0039\n",
      "Epoch 50/200\n",
      "3/3 [==============================] - 0s 25ms/step - loss: 0.0039\n",
      "Epoch 51/200\n",
      "3/3 [==============================] - 0s 16ms/step - loss: 0.0039\n",
      "Epoch 52/200\n",
      "3/3 [==============================] - 0s 17ms/step - loss: 0.0038\n",
      "Epoch 53/200\n",
      "3/3 [==============================] - 0s 26ms/step - loss: 0.0038\n",
      "Epoch 54/200\n",
      "3/3 [==============================] - 0s 35ms/step - loss: 0.0038\n",
      "Epoch 55/200\n",
      "3/3 [==============================] - 0s 34ms/step - loss: 0.0038\n",
      "Epoch 56/200\n",
      "3/3 [==============================] - 0s 36ms/step - loss: 0.0037\n",
      "Epoch 57/200\n",
      "3/3 [==============================] - 0s 31ms/step - loss: 0.0037\n",
      "Epoch 58/200\n",
      "3/3 [==============================] - 0s 14ms/step - loss: 0.0037\n",
      "Epoch 59/200\n",
      "3/3 [==============================] - 0s 22ms/step - loss: 0.0036\n",
      "Epoch 60/200\n",
      "3/3 [==============================] - 0s 15ms/step - loss: 0.0036\n",
      "Epoch 61/200\n",
      "3/3 [==============================] - 0s 14ms/step - loss: 0.0037\n",
      "Epoch 62/200\n",
      "3/3 [==============================] - 0s 13ms/step - loss: 0.0036\n",
      "Epoch 63/200\n",
      "3/3 [==============================] - 0s 15ms/step - loss: 0.0036\n",
      "Epoch 64/200\n",
      "3/3 [==============================] - 0s 25ms/step - loss: 0.0035\n",
      "Epoch 65/200\n",
      "3/3 [==============================] - 0s 32ms/step - loss: 0.0034\n",
      "Epoch 66/200\n",
      "3/3 [==============================] - 0s 33ms/step - loss: 0.0037\n",
      "Epoch 67/200\n",
      "3/3 [==============================] - 0s 15ms/step - loss: 0.0037\n",
      "Epoch 68/200\n",
      "3/3 [==============================] - 0s 13ms/step - loss: 0.0036\n",
      "Epoch 69/200\n",
      "3/3 [==============================] - 0s 14ms/step - loss: 0.0033\n",
      "Epoch 70/200\n",
      "3/3 [==============================] - 0s 29ms/step - loss: 0.0035\n",
      "Epoch 71/200\n",
      "3/3 [==============================] - 0s 30ms/step - loss: 0.0033\n",
      "Epoch 72/200\n",
      "3/3 [==============================] - 0s 14ms/step - loss: 0.0033\n",
      "Epoch 73/200\n",
      "3/3 [==============================] - 0s 14ms/step - loss: 0.0032\n",
      "Epoch 74/200\n",
      "3/3 [==============================] - 0s 17ms/step - loss: 0.0032\n",
      "Epoch 75/200\n",
      "3/3 [==============================] - 0s 33ms/step - loss: 0.0031\n",
      "Epoch 76/200\n",
      "3/3 [==============================] - 0s 34ms/step - loss: 0.0031\n",
      "Epoch 77/200\n",
      "3/3 [==============================] - 0s 16ms/step - loss: 0.0030\n",
      "Epoch 78/200\n",
      "3/3 [==============================] - 0s 14ms/step - loss: 0.0030\n",
      "Epoch 79/200\n",
      "3/3 [==============================] - 0s 15ms/step - loss: 0.0029\n",
      "Epoch 80/200\n",
      "3/3 [==============================] - 0s 15ms/step - loss: 0.0028\n",
      "Epoch 81/200\n",
      "3/3 [==============================] - 0s 15ms/step - loss: 0.0028\n",
      "Epoch 82/200\n",
      "3/3 [==============================] - 0s 33ms/step - loss: 0.0028\n",
      "Epoch 83/200\n",
      "3/3 [==============================] - 0s 20ms/step - loss: 0.0027\n",
      "Epoch 84/200\n",
      "3/3 [==============================] - 0s 25ms/step - loss: 0.0026\n",
      "Epoch 85/200\n",
      "3/3 [==============================] - 0s 29ms/step - loss: 0.0026\n",
      "Epoch 86/200\n",
      "3/3 [==============================] - 0s 19ms/step - loss: 0.0025\n",
      "Epoch 87/200\n",
      "3/3 [==============================] - 0s 20ms/step - loss: 0.0024\n",
      "Epoch 88/200\n",
      "3/3 [==============================] - 0s 20ms/step - loss: 0.0024\n",
      "Epoch 89/200\n",
      "3/3 [==============================] - 0s 24ms/step - loss: 0.0023\n",
      "Epoch 90/200\n",
      "3/3 [==============================] - 0s 20ms/step - loss: 0.0022\n",
      "Epoch 91/200\n",
      "3/3 [==============================] - 0s 32ms/step - loss: 0.0022\n",
      "Epoch 92/200\n",
      "3/3 [==============================] - 0s 24ms/step - loss: 0.0021\n",
      "Epoch 93/200\n",
      "3/3 [==============================] - 0s 34ms/step - loss: 0.0021\n",
      "Epoch 94/200\n",
      "3/3 [==============================] - 0s 18ms/step - loss: 0.0020\n",
      "Epoch 95/200\n",
      "3/3 [==============================] - 0s 15ms/step - loss: 0.0020\n",
      "Epoch 96/200\n",
      "3/3 [==============================] - 0s 15ms/step - loss: 0.0018\n",
      "Epoch 97/200\n",
      "3/3 [==============================] - 0s 17ms/step - loss: 0.0018\n",
      "Epoch 98/200\n",
      "3/3 [==============================] - 0s 19ms/step - loss: 0.0017\n",
      "Epoch 99/200\n",
      "3/3 [==============================] - 0s 18ms/step - loss: 0.0015\n",
      "Epoch 100/200\n",
      "3/3 [==============================] - 0s 17ms/step - loss: 0.0014\n",
      "Epoch 101/200\n",
      "3/3 [==============================] - 0s 19ms/step - loss: 0.0014\n",
      "Epoch 102/200\n",
      "3/3 [==============================] - 0s 20ms/step - loss: 0.0013\n",
      "Epoch 103/200\n"
     ]
    },
    {
     "name": "stdout",
     "output_type": "stream",
     "text": [
      "3/3 [==============================] - 0s 43ms/step - loss: 0.0013\n",
      "Epoch 104/200\n",
      "3/3 [==============================] - 0s 21ms/step - loss: 0.0012\n",
      "Epoch 105/200\n",
      "3/3 [==============================] - 0s 35ms/step - loss: 0.0012\n",
      "Epoch 106/200\n",
      "3/3 [==============================] - 0s 25ms/step - loss: 0.0013\n",
      "Epoch 107/200\n",
      "3/3 [==============================] - 0s 17ms/step - loss: 0.0012\n",
      "Epoch 108/200\n",
      "3/3 [==============================] - 0s 15ms/step - loss: 0.0013\n",
      "Epoch 109/200\n",
      "3/3 [==============================] - 0s 16ms/step - loss: 0.0012\n",
      "Epoch 110/200\n",
      "3/3 [==============================] - 0s 15ms/step - loss: 0.0012\n",
      "Epoch 111/200\n",
      "3/3 [==============================] - 0s 16ms/step - loss: 0.0016\n",
      "Epoch 112/200\n",
      "3/3 [==============================] - 0s 14ms/step - loss: 0.0019\n",
      "Epoch 113/200\n",
      "3/3 [==============================] - 0s 17ms/step - loss: 0.0023\n",
      "Epoch 114/200\n",
      "3/3 [==============================] - 0s 16ms/step - loss: 0.0018\n",
      "Epoch 115/200\n",
      "3/3 [==============================] - 0s 18ms/step - loss: 0.0015\n",
      "Epoch 116/200\n",
      "3/3 [==============================] - 0s 16ms/step - loss: 0.0014\n",
      "Epoch 117/200\n",
      "3/3 [==============================] - 0s 17ms/step - loss: 0.0015\n",
      "Epoch 118/200\n",
      "3/3 [==============================] - 0s 33ms/step - loss: 0.0012\n",
      "Epoch 119/200\n",
      "3/3 [==============================] - 0s 15ms/step - loss: 0.0010\n",
      "Epoch 120/200\n",
      "3/3 [==============================] - 0s 17ms/step - loss: 0.0011\n",
      "Epoch 121/200\n",
      "3/3 [==============================] - 0s 16ms/step - loss: 9.2375e-04\n",
      "Epoch 122/200\n",
      "3/3 [==============================] - 0s 22ms/step - loss: 8.8566e-04\n",
      "Epoch 123/200\n",
      "3/3 [==============================] - 0s 20ms/step - loss: 9.2828e-04\n",
      "Epoch 124/200\n",
      "3/3 [==============================] - 0s 18ms/step - loss: 8.6754e-04\n",
      "Epoch 125/200\n",
      "3/3 [==============================] - 0s 16ms/step - loss: 8.0738e-04\n",
      "Epoch 126/200\n",
      "3/3 [==============================] - 0s 15ms/step - loss: 8.3882e-04\n",
      "Epoch 127/200\n",
      "3/3 [==============================] - 0s 14ms/step - loss: 8.3977e-04\n",
      "Epoch 128/200\n",
      "3/3 [==============================] - 0s 15ms/step - loss: 7.7277e-04\n",
      "Epoch 129/200\n",
      "3/3 [==============================] - 0s 16ms/step - loss: 7.7363e-04\n",
      "Epoch 130/200\n",
      "3/3 [==============================] - 0s 14ms/step - loss: 7.5582e-04\n",
      "Epoch 131/200\n",
      "3/3 [==============================] - 0s 16ms/step - loss: 7.5121e-04\n",
      "Epoch 132/200\n",
      "3/3 [==============================] - 0s 16ms/step - loss: 7.2561e-04\n",
      "Epoch 133/200\n",
      "3/3 [==============================] - 0s 19ms/step - loss: 7.3750e-04\n",
      "Epoch 134/200\n",
      "3/3 [==============================] - 0s 15ms/step - loss: 7.4782e-04\n",
      "Epoch 135/200\n",
      "3/3 [==============================] - 0s 35ms/step - loss: 7.2896e-04\n",
      "Epoch 136/200\n",
      "3/3 [==============================] - 0s 16ms/step - loss: 7.0130e-04\n",
      "Epoch 137/200\n",
      "3/3 [==============================] - 0s 16ms/step - loss: 6.9889e-04\n",
      "Epoch 138/200\n",
      "3/3 [==============================] - 0s 18ms/step - loss: 7.0221e-04\n",
      "Epoch 139/200\n",
      "3/3 [==============================] - 0s 15ms/step - loss: 7.3350e-04\n",
      "Epoch 140/200\n",
      "3/3 [==============================] - 0s 16ms/step - loss: 7.0931e-04\n",
      "Epoch 141/200\n",
      "3/3 [==============================] - 0s 18ms/step - loss: 7.1147e-04\n",
      "Epoch 142/200\n",
      "3/3 [==============================] - 0s 16ms/step - loss: 6.8707e-04\n",
      "Epoch 143/200\n",
      "3/3 [==============================] - 0s 16ms/step - loss: 7.1431e-04\n",
      "Epoch 144/200\n",
      "3/3 [==============================] - 0s 15ms/step - loss: 6.6924e-04\n",
      "Epoch 145/200\n",
      "3/3 [==============================] - 0s 15ms/step - loss: 7.3105e-04\n",
      "Epoch 146/200\n",
      "3/3 [==============================] - 0s 17ms/step - loss: 8.1750e-04\n",
      "Epoch 147/200\n",
      "3/3 [==============================] - 0s 14ms/step - loss: 7.0364e-04\n",
      "Epoch 148/200\n",
      "3/3 [==============================] - 0s 15ms/step - loss: 7.3321e-04\n",
      "Epoch 149/200\n",
      "3/3 [==============================] - 0s 17ms/step - loss: 6.8374e-04\n",
      "Epoch 150/200\n",
      "3/3 [==============================] - 0s 35ms/step - loss: 6.6232e-04\n",
      "Epoch 151/200\n",
      "3/3 [==============================] - 0s 19ms/step - loss: 6.7026e-04\n",
      "Epoch 152/200\n",
      "3/3 [==============================] - 0s 15ms/step - loss: 7.1005e-04\n",
      "Epoch 153/200\n",
      "3/3 [==============================] - 0s 15ms/step - loss: 6.4522e-04\n",
      "Epoch 154/200\n",
      "3/3 [==============================] - 0s 16ms/step - loss: 6.5823e-04\n",
      "Epoch 155/200\n",
      "3/3 [==============================] - 0s 15ms/step - loss: 6.5940e-04\n",
      "Epoch 156/200\n",
      "3/3 [==============================] - 0s 16ms/step - loss: 6.5713e-04\n",
      "Epoch 157/200\n",
      "3/3 [==============================] - 0s 15ms/step - loss: 6.6551e-04\n",
      "Epoch 158/200\n",
      "3/3 [==============================] - 0s 17ms/step - loss: 6.1187e-04\n",
      "Epoch 159/200\n",
      "3/3 [==============================] - 0s 18ms/step - loss: 6.8014e-04\n",
      "Epoch 160/200\n",
      "3/3 [==============================] - 0s 16ms/step - loss: 7.4340e-04\n",
      "Epoch 161/200\n",
      "3/3 [==============================] - 0s 17ms/step - loss: 6.8302e-04\n",
      "Epoch 162/200\n",
      "3/3 [==============================] - 0s 16ms/step - loss: 6.1133e-04\n",
      "Epoch 163/200\n",
      "3/3 [==============================] - 0s 17ms/step - loss: 6.3738e-04\n",
      "Epoch 164/200\n",
      "3/3 [==============================] - 0s 15ms/step - loss: 6.3347e-04\n",
      "Epoch 165/200\n",
      "3/3 [==============================] - 0s 15ms/step - loss: 6.4416e-04\n",
      "Epoch 166/200\n",
      "3/3 [==============================] - 0s 15ms/step - loss: 6.9403e-04\n",
      "Epoch 167/200\n",
      "3/3 [==============================] - 0s 17ms/step - loss: 6.4485e-04\n",
      "Epoch 168/200\n",
      "3/3 [==============================] - 0s 15ms/step - loss: 6.1046e-04\n",
      "Epoch 169/200\n",
      "3/3 [==============================] - 0s 23ms/step - loss: 6.2559e-04\n",
      "Epoch 170/200\n",
      "3/3 [==============================] - 0s 33ms/step - loss: 7.8377e-04\n",
      "Epoch 171/200\n",
      "3/3 [==============================] - 0s 35ms/step - loss: 9.8449e-04\n",
      "Epoch 172/200\n",
      "3/3 [==============================] - 0s 16ms/step - loss: 8.6809e-04\n",
      "Epoch 173/200\n",
      "3/3 [==============================] - 0s 16ms/step - loss: 8.6643e-04\n",
      "Epoch 174/200\n",
      "3/3 [==============================] - 0s 15ms/step - loss: 7.7087e-04\n",
      "Epoch 175/200\n",
      "3/3 [==============================] - 0s 17ms/step - loss: 6.4627e-04\n",
      "Epoch 176/200\n",
      "3/3 [==============================] - 0s 17ms/step - loss: 7.4646e-04\n",
      "Epoch 177/200\n",
      "3/3 [==============================] - 0s 17ms/step - loss: 6.0824e-04\n",
      "Epoch 178/200\n",
      "3/3 [==============================] - 0s 36ms/step - loss: 6.7467e-04\n",
      "Epoch 179/200\n",
      "3/3 [==============================] - 0s 32ms/step - loss: 6.7323e-04\n",
      "Epoch 180/200\n",
      "3/3 [==============================] - 0s 16ms/step - loss: 6.7009e-04\n",
      "Epoch 181/200\n",
      "3/3 [==============================] - 0s 15ms/step - loss: 6.4556e-04\n",
      "Epoch 182/200\n",
      "3/3 [==============================] - 0s 16ms/step - loss: 5.4845e-04\n",
      "Epoch 183/200\n",
      "3/3 [==============================] - 0s 21ms/step - loss: 6.6094e-04\n",
      "Epoch 184/200\n",
      "3/3 [==============================] - 0s 24ms/step - loss: 7.0103e-04\n",
      "Epoch 185/200\n",
      "3/3 [==============================] - 0s 17ms/step - loss: 7.2622e-04\n",
      "Epoch 186/200\n",
      "3/3 [==============================] - 0s 17ms/step - loss: 6.7449e-04\n",
      "Epoch 187/200\n",
      "3/3 [==============================] - 0s 16ms/step - loss: 6.0940e-04\n",
      "Epoch 188/200\n",
      "3/3 [==============================] - 0s 15ms/step - loss: 6.9349e-04\n",
      "Epoch 189/200\n",
      "3/3 [==============================] - 0s 16ms/step - loss: 5.6117e-04\n",
      "Epoch 190/200\n",
      "3/3 [==============================] - 0s 15ms/step - loss: 7.2079e-04\n",
      "Epoch 191/200\n",
      "3/3 [==============================] - 0s 32ms/step - loss: 5.6778e-04\n",
      "Epoch 192/200\n",
      "3/3 [==============================] - 0s 31ms/step - loss: 6.0166e-04\n",
      "Epoch 193/200\n",
      "3/3 [==============================] - 0s 15ms/step - loss: 5.4800e-04\n",
      "Epoch 194/200\n",
      "3/3 [==============================] - 0s 16ms/step - loss: 5.5369e-04\n",
      "Epoch 195/200\n",
      "3/3 [==============================] - 0s 16ms/step - loss: 5.5744e-04\n",
      "Epoch 196/200\n",
      "3/3 [==============================] - 0s 15ms/step - loss: 5.4244e-04\n",
      "Epoch 197/200\n",
      "3/3 [==============================] - 0s 17ms/step - loss: 5.4284e-04\n",
      "Epoch 198/200\n",
      "3/3 [==============================] - 0s 15ms/step - loss: 5.6075e-04\n",
      "Epoch 199/200\n",
      "3/3 [==============================] - 0s 16ms/step - loss: 5.5524e-04\n",
      "Epoch 200/200\n"
     ]
    },
    {
     "name": "stdout",
     "output_type": "stream",
     "text": [
      "1/3 [=========>....................] - ETA: 0s - loss: 4.1180e-04\b\b\b\b\b\b\b\b\b\b\b\b\b\b\b\b\b\b\b\b\b\b\b\b\b\b\b\b\b\b\b\b\b\b\b\b\b\b\b\b\b\b\b\b\b\b\b\b\b\b\b\b\b\b\b\b\b\b\b\b\b\b\b\b\b\r",
      "3/3 [==============================] - 0s 15ms/step - loss: 5.6931e-04\n"
     ]
    },
    {
     "data": {
      "text/plain": [
       "<keras.src.callbacks.History at 0x1c9eb920460>"
      ]
     },
     "execution_count": 17,
     "metadata": {},
     "output_type": "execute_result"
    }
   ],
   "source": [
    "model.fit(X_train, y_train, epochs=200, verbose=1)"
   ]
  },
  {
   "cell_type": "code",
   "execution_count": 18,
   "id": "2bd6ae88",
   "metadata": {},
   "outputs": [
    {
     "name": "stdout",
     "output_type": "stream",
     "text": [
      "3/3 [==============================] - 1s 9ms/step\n",
      "2/2 [==============================] - 0s 8ms/step\n"
     ]
    }
   ],
   "source": [
    "#make predictions\n",
    "trainPredict = model.predict(X_train)\n",
    "testPredict = model.predict(X_test)"
   ]
  },
  {
   "cell_type": "code",
   "execution_count": 19,
   "id": "029b3309",
   "metadata": {},
   "outputs": [],
   "source": [
    "# rescale the data\n",
    "trainPredict = scaler.inverse_transform(trainPredict)\n",
    "trainY = scaler.inverse_transform(y_train)\n",
    "testPredict = scaler.inverse_transform(testPredict)\n",
    "testY = scaler.inverse_transform(y_test)"
   ]
  },
  {
   "cell_type": "code",
   "execution_count": 21,
   "id": "88905d43",
   "metadata": {},
   "outputs": [
    {
     "data": {
      "image/png": "[encoded data removed]",
      "text/plain": [
       "<Figure size 640x480 with 1 Axes>"
      ]
     },
     "metadata": {},
     "output_type": "display_data"
    }
   ],
   "source": [
    "#shift train predictions for plotting\n",
    "trainPredictPlot = np.empty_like(dataset)\n",
    "trainPredictPlot[:, :] = np.nan\n",
    "trainPredictPlot[n_steps:len(trainPredict)+n_steps, :]=trainPredict\n",
    "\n",
    "#shift test predictions for plotting\\\n",
    "testPredictPlot = np.empty_like(dataset)\n",
    "testPredictPlot[:, :] = np.nan\n",
    "testPredictPlot[len(trainPredict)+(n_steps*2)-1:len(dataset)-1, :] = testPredict\n",
    "#testPredictPlot[len(trainPredict)+(look_back*2)+1:len(dataset)-1,:] = testPredict\n",
    "\n",
    "#plot baseline and predictions\n",
    "plt.plot(scaler.inverse_transform(dataset))\n",
    "plt.plot(trainPredictPlot)\n",
    "plt.plot(testPredictPlot)\n",
    "plt.show()"
   ]
  },
  {
   "cell_type": "code",
   "execution_count": 22,
   "id": "57411909",
   "metadata": {},
   "outputs": [
    {
     "data": {
      "text/plain": [
       "(48, 1)"
      ]
     },
     "execution_count": 22,
     "metadata": {},
     "output_type": "execute_result"
    }
   ],
   "source": [
    "test.shape"
   ]
  },
  {
   "cell_type": "code",
   "execution_count": 23,
   "id": "00270529",
   "metadata": {},
   "outputs": [
    {
     "data": {
      "text/plain": [
       "array([[0.6042471 ],\n",
       "       [0.554054  ],\n",
       "       [0.60810804],\n",
       "       [0.6891892 ],\n",
       "       [0.71042466],\n",
       "       [0.8320464 ],\n",
       "       [1.        ],\n",
       "       [0.96911204],\n",
       "       [0.7799227 ],\n",
       "       [0.6891892 ],\n",
       "       [0.55212355],\n",
       "       [0.6332046 ]], dtype=float32)"
      ]
     },
     "execution_count": 23,
     "metadata": {},
     "output_type": "execute_result"
    }
   ],
   "source": [
    "X_input = test[36:]\n",
    "X_input"
   ]
  },
  {
   "cell_type": "code",
   "execution_count": 26,
   "id": "61167230",
   "metadata": {},
   "outputs": [],
   "source": [
    "X_input = X_input.reshape(1, -1)"
   ]
  },
  {
   "cell_type": "code",
   "execution_count": 29,
   "id": "0e3647f0",
   "metadata": {},
   "outputs": [
    {
     "name": "stdout",
     "output_type": "stream",
     "text": [
      "1/1 [==============================] - 0s 470ms/step\n"
     ]
    }
   ],
   "source": [
    "future = model.predict(X_input)"
   ]
  },
  {
   "cell_type": "code",
   "execution_count": 30,
   "id": "b17dc171",
   "metadata": {},
   "outputs": [
    {
     "data": {
      "text/plain": [
       "array([[86.11518]], dtype=float32)"
      ]
     },
     "execution_count": 30,
     "metadata": {},
     "output_type": "execute_result"
    }
   ],
   "source": [
    "scaler.inverse_transform(future)"
   ]
  },
  {
   "cell_type": "code",
   "execution_count": 31,
   "id": "14ab954f",
   "metadata": {},
   "outputs": [],
   "source": [
    "temp_input = list(X_input)\n",
    "temp_input = temp_input[0].tolist()"
   ]
  },
  {
   "cell_type": "code",
   "execution_count": 39,
   "id": "ea52f63e",
   "metadata": {},
   "outputs": [
    {
     "name": "stdout",
     "output_type": "stream",
     "text": [
      "0 month input [0.55405402 0.60810804 0.6891892  0.71042466 0.83204639 1.\n",
      " 0.96911204 0.77992272 0.6891892  0.55212355 0.63320458 0.01055621]\n",
      "0 moth output [[0.00930544]]\n",
      "1 month input [0.60810804 0.6891892  0.71042466 0.83204639 1.         0.96911204\n",
      " 0.77992272 0.6891892  0.55212355 0.63320458 0.01055621 0.00930544]\n",
      "1 moth output [[0.00778592]]\n",
      "2 month input [0.6891892  0.71042466 0.83204639 1.         0.96911204 0.77992272\n",
      " 0.6891892  0.55212355 0.63320458 0.01055621 0.00930544 0.00778592]\n",
      "2 moth output [[0.00616294]]\n",
      "3 month input [0.71042466 0.83204639 1.         0.96911204 0.77992272 0.6891892\n",
      " 0.55212355 0.63320458 0.01055621 0.00930544 0.00778592 0.00616294]\n",
      "3 moth output [[0.00462045]]\n",
      "4 month input [0.83204639 1.         0.96911204 0.77992272 0.6891892  0.55212355\n",
      " 0.63320458 0.01055621 0.00930544 0.00778592 0.00616294 0.00462045]\n",
      "4 moth output [[0.00338219]]\n",
      "5 month input [1.         0.96911204 0.77992272 0.6891892  0.55212355 0.63320458\n",
      " 0.01055621 0.00930544 0.00778592 0.00616294 0.00462045 0.00338219]\n",
      "5 moth output [[0.00243761]]\n",
      "6 month input [0.96911204 0.77992272 0.6891892  0.55212355 0.63320458 0.01055621\n",
      " 0.00930544 0.00778592 0.00616294 0.00462045 0.00338219 0.00243761]\n",
      "6 moth output [[0.00173877]]\n",
      "7 month input [0.77992272 0.6891892  0.55212355 0.63320458 0.01055621 0.00930544\n",
      " 0.00778592 0.00616294 0.00462045 0.00338219 0.00243761 0.00173877]\n",
      "7 moth output [[0.00118552]]\n",
      "8 month input [0.6891892  0.55212355 0.63320458 0.01055621 0.00930544 0.00778592\n",
      " 0.00616294 0.00462045 0.00338219 0.00243761 0.00173877 0.00118552]\n",
      "8 moth output [[0.00075733]]\n",
      "9 month input [0.55212355 0.63320458 0.01055621 0.00930544 0.00778592 0.00616294\n",
      " 0.00462045 0.00338219 0.00243761 0.00173877 0.00118552 0.00075733]\n",
      "9 moth output [[0.00043429]]\n",
      "10 month input [6.33204579e-01 1.05562080e-02 9.30543710e-03 7.78591586e-03\n",
      " 6.16293820e-03 4.62044869e-03 3.38219199e-03 2.43760645e-03\n",
      " 1.73876551e-03 1.18551962e-03 7.57331611e-04 4.34292248e-04]\n",
      "10 moth output [[0.00020716]]\n",
      "11 month input [0.01055621 0.00930544 0.00778592 0.00616294 0.00462045 0.00338219\n",
      " 0.00243761 0.00173877 0.00118552 0.00075733 0.00043429 0.00020716]\n",
      "11 moth output [[2.6995725e-05]]\n",
      "[[0.009305437095463276], [0.0077859158627688885], [0.006162938196212053], [0.004620448686182499], [0.0033821919932961464], [0.002437606453895569], [0.0017387655097991228], [0.0011855196207761765], [0.0007573316106572747], [0.00043429224751889706], [0.00020715538994409144], [2.6995725420420058e-05]]\n"
     ]
    }
   ],
   "source": [
    "lst_output=[]\n",
    "\n",
    "i=0\n",
    "while(i<n_steps):\n",
    "    \n",
    "    if(len(temp_input)>n_steps):\n",
    "        X_input=np.array(temp_input[1:])\n",
    "        print(\"{} month input {}\".format(i,X_input))\n",
    "        X_input=X_input.reshape(1,-1)\n",
    "        X_input=X_input.reshape((1,n_steps,1))\n",
    "        yhat=model.predict(X_input, verbose=0)\n",
    "        print(\"{} moth output {}\".format(i,yhat))\n",
    "        temp_input.extend(yhat[0].tolist())\n",
    "        temp_input=temp_input[1:]\n",
    "        lst_output.extend(yhat.tolist())\n",
    "        i=i+1\n",
    "    else:\n",
    "        X_input = X_input.reshape((1, n_steps,1))\n",
    "        yhat = model.predict(X_input, verbose=0)\n",
    "        print(yhat[0])\n",
    "        temp_input.extend(yhat[0].tolist())\n",
    "        lst_output.extend(yhat.tolist())\n",
    "        i=i+1\n",
    "print(lst_output)\n",
    "    "
   ]
  },
  {
   "cell_type": "code",
   "execution_count": null,
   "id": "fa750a0f",
   "metadata": {},
   "outputs": [],
   "source": []
  }
 ],
 "metadata": {
  "kernelspec": {
   "display_name": "Python 3 (ipykernel)",
   "language": "python",
   "name": "python3"
  },
  "language_info": {
   "codemirror_mode": {
    "name": "ipython",
    "version": 3
   },
   "file_extension": ".py",
   "mimetype": "text/x-python",
   "name": "python",
   "nbconvert_exporter": "python",
   "pygments_lexer": "ipython3",
   "version": "3.9.13"
  }
 },
 "nbformat": 4,
 "nbformat_minor": 5
}
