{
 "cells": [
  {
   "cell_type": "markdown",
   "id": "6d4e3a61",
   "metadata": {},
   "source": [
    "## Import Libraries"
   ]
  },
  {
   "cell_type": "code",
   "execution_count": 2,
   "id": "76bb5c83",
   "metadata": {},
   "outputs": [],
   "source": [
    "import numpy as np\n",
    "import matplotlib.pyplot as plt\n",
    "import math\n",
    "from sklearn.metrics import mean_squared_error\n",
    "import pandas as pd\n",
    "from tensorflow.keras.models import Sequential\n",
    "from tensorflow.keras.layers import SimpleRNN, Dense\n",
    "from sklearn.preprocessing import MinMaxScaler\n",
    "%matplotlib inline"
   ]
  },
  {
   "cell_type": "markdown",
   "id": "fd876328",
   "metadata": {},
   "source": [
    "## Load and check data"
   ]
  },
  {
   "cell_type": "code",
   "execution_count": 3,
   "id": "12428970",
   "metadata": {},
   "outputs": [
    {
     "data": {
      "text/html": [
       "<div>\n",
       "<style scoped>\n",
       "    .dataframe tbody tr th:only-of-type {\n",
       "        vertical-align: middle;\n",
       "    }\n",
       "\n",
       "    .dataframe tbody tr th {\n",
       "        vertical-align: top;\n",
       "    }\n",
       "\n",
       "    .dataframe thead th {\n",
       "        text-align: right;\n",
       "    }\n",
       "</style>\n",
       "<table border=\"1\" class=\"dataframe\">\n",
       "  <thead>\n",
       "    <tr style=\"text-align: right;\">\n",
       "      <th></th>\n",
       "      <th>Month</th>\n",
       "      <th>#Passengers</th>\n",
       "    </tr>\n",
       "  </thead>\n",
       "  <tbody>\n",
       "    <tr>\n",
       "      <th>0</th>\n",
       "      <td>1949-01</td>\n",
       "      <td>112</td>\n",
       "    </tr>\n",
       "    <tr>\n",
       "      <th>1</th>\n",
       "      <td>1949-02</td>\n",
       "      <td>118</td>\n",
       "    </tr>\n",
       "    <tr>\n",
       "      <th>2</th>\n",
       "      <td>1949-03</td>\n",
       "      <td>132</td>\n",
       "    </tr>\n",
       "    <tr>\n",
       "      <th>3</th>\n",
       "      <td>1949-04</td>\n",
       "      <td>129</td>\n",
       "    </tr>\n",
       "    <tr>\n",
       "      <th>4</th>\n",
       "      <td>1949-05</td>\n",
       "      <td>121</td>\n",
       "    </tr>\n",
       "    <tr>\n",
       "      <th>5</th>\n",
       "      <td>1949-06</td>\n",
       "      <td>135</td>\n",
       "    </tr>\n",
       "    <tr>\n",
       "      <th>6</th>\n",
       "      <td>1949-07</td>\n",
       "      <td>148</td>\n",
       "    </tr>\n",
       "    <tr>\n",
       "      <th>7</th>\n",
       "      <td>1949-08</td>\n",
       "      <td>148</td>\n",
       "    </tr>\n",
       "    <tr>\n",
       "      <th>8</th>\n",
       "      <td>1949-09</td>\n",
       "      <td>136</td>\n",
       "    </tr>\n",
       "    <tr>\n",
       "      <th>9</th>\n",
       "      <td>1949-10</td>\n",
       "      <td>119</td>\n",
       "    </tr>\n",
       "  </tbody>\n",
       "</table>\n",
       "</div>"
      ],
      "text/plain": [
       "     Month  #Passengers\n",
       "0  1949-01          112\n",
       "1  1949-02          118\n",
       "2  1949-03          132\n",
       "3  1949-04          129\n",
       "4  1949-05          121\n",
       "5  1949-06          135\n",
       "6  1949-07          148\n",
       "7  1949-08          148\n",
       "8  1949-09          136\n",
       "9  1949-10          119"
      ]
     },
     "execution_count": 3,
     "metadata": {},
     "output_type": "execute_result"
    }
   ],
   "source": [
    "data = pd.read_csv(r'AirPassengers.csv')\n",
    "data.head(10)"
   ]
  },
  {
   "cell_type": "code",
   "execution_count": 4,
   "id": "bbfa360b",
   "metadata": {},
   "outputs": [
    {
     "data": {
      "text/html": [
       "<div>\n",
       "<style scoped>\n",
       "    .dataframe tbody tr th:only-of-type {\n",
       "        vertical-align: middle;\n",
       "    }\n",
       "\n",
       "    .dataframe tbody tr th {\n",
       "        vertical-align: top;\n",
       "    }\n",
       "\n",
       "    .dataframe thead th {\n",
       "        text-align: right;\n",
       "    }\n",
       "</style>\n",
       "<table border=\"1\" class=\"dataframe\">\n",
       "  <thead>\n",
       "    <tr style=\"text-align: right;\">\n",
       "      <th></th>\n",
       "      <th>Month</th>\n",
       "      <th>#Passengers</th>\n",
       "    </tr>\n",
       "  </thead>\n",
       "  <tbody>\n",
       "    <tr>\n",
       "      <th>139</th>\n",
       "      <td>1960-08</td>\n",
       "      <td>606</td>\n",
       "    </tr>\n",
       "    <tr>\n",
       "      <th>140</th>\n",
       "      <td>1960-09</td>\n",
       "      <td>508</td>\n",
       "    </tr>\n",
       "    <tr>\n",
       "      <th>141</th>\n",
       "      <td>1960-10</td>\n",
       "      <td>461</td>\n",
       "    </tr>\n",
       "    <tr>\n",
       "      <th>142</th>\n",
       "      <td>1960-11</td>\n",
       "      <td>390</td>\n",
       "    </tr>\n",
       "    <tr>\n",
       "      <th>143</th>\n",
       "      <td>1960-12</td>\n",
       "      <td>432</td>\n",
       "    </tr>\n",
       "  </tbody>\n",
       "</table>\n",
       "</div>"
      ],
      "text/plain": [
       "       Month  #Passengers\n",
       "139  1960-08          606\n",
       "140  1960-09          508\n",
       "141  1960-10          461\n",
       "142  1960-11          390\n",
       "143  1960-12          432"
      ]
     },
     "execution_count": 4,
     "metadata": {},
     "output_type": "execute_result"
    }
   ],
   "source": [
    "data.tail()"
   ]
  },
  {
   "cell_type": "code",
   "execution_count": 5,
   "id": "8737db0b",
   "metadata": {},
   "outputs": [
    {
     "data": {
      "text/plain": [
       "(144, 2)"
      ]
     },
     "execution_count": 5,
     "metadata": {},
     "output_type": "execute_result"
    }
   ],
   "source": [
    "data.shape"
   ]
  },
  {
   "cell_type": "code",
   "execution_count": 6,
   "id": "6d7f297d",
   "metadata": {},
   "outputs": [
    {
     "name": "stdout",
     "output_type": "stream",
     "text": [
      "<class 'pandas.core.frame.DataFrame'>\n",
      "RangeIndex: 144 entries, 0 to 143\n",
      "Data columns (total 2 columns):\n",
      " #   Column       Non-Null Count  Dtype \n",
      "---  ------       --------------  ----- \n",
      " 0   Month        144 non-null    object\n",
      " 1   #Passengers  144 non-null    int64 \n",
      "dtypes: int64(1), object(1)\n",
      "memory usage: 2.4+ KB\n"
     ]
    }
   ],
   "source": [
    "data.info()"
   ]
  },
  {
   "cell_type": "code",
   "execution_count": 7,
   "id": "9b90ad0d",
   "metadata": {},
   "outputs": [
    {
     "data": {
      "text/plain": [
       "Text(0.5, 1.0, 'Number of Passengers accrossing to Months')"
      ]
     },
     "execution_count": 7,
     "metadata": {},
     "output_type": "execute_result"
    },
    {
     "data": {
      "image/png": "[encoded data removed]",
      "text/plain": [
       "<Figure size 1200x800 with 1 Axes>"
      ]
     },
     "metadata": {},
     "output_type": "display_data"
    }
   ],
   "source": [
    "plt.figure(figsize=(12,8))\n",
    "plt.plot(data['#Passengers'])\n",
    "plt.title(\"Number of Passengers accrossing to Months\")"
   ]
  },
  {
   "cell_type": "code",
   "execution_count": 8,
   "id": "8a1474eb",
   "metadata": {},
   "outputs": [
    {
     "data": {
      "text/html": [
       "<div>\n",
       "<style scoped>\n",
       "    .dataframe tbody tr th:only-of-type {\n",
       "        vertical-align: middle;\n",
       "    }\n",
       "\n",
       "    .dataframe tbody tr th {\n",
       "        vertical-align: top;\n",
       "    }\n",
       "\n",
       "    .dataframe thead th {\n",
       "        text-align: right;\n",
       "    }\n",
       "</style>\n",
       "<table border=\"1\" class=\"dataframe\">\n",
       "  <thead>\n",
       "    <tr style=\"text-align: right;\">\n",
       "      <th></th>\n",
       "      <th>#Passengers</th>\n",
       "    </tr>\n",
       "  </thead>\n",
       "  <tbody>\n",
       "    <tr>\n",
       "      <th>0</th>\n",
       "      <td>112</td>\n",
       "    </tr>\n",
       "    <tr>\n",
       "      <th>1</th>\n",
       "      <td>118</td>\n",
       "    </tr>\n",
       "    <tr>\n",
       "      <th>2</th>\n",
       "      <td>132</td>\n",
       "    </tr>\n",
       "    <tr>\n",
       "      <th>3</th>\n",
       "      <td>129</td>\n",
       "    </tr>\n",
       "    <tr>\n",
       "      <th>4</th>\n",
       "      <td>121</td>\n",
       "    </tr>\n",
       "  </tbody>\n",
       "</table>\n",
       "</div>"
      ],
      "text/plain": [
       "   #Passengers\n",
       "0          112\n",
       "1          118\n",
       "2          132\n",
       "3          129\n",
       "4          121"
      ]
     },
     "execution_count": 8,
     "metadata": {},
     "output_type": "execute_result"
    }
   ],
   "source": [
    "dataset = data.drop(columns='Month')\n",
    "dataset[:5]"
   ]
  },
  {
   "cell_type": "markdown",
   "id": "9e6c2f17",
   "metadata": {},
   "source": [
    "## Data Preparation"
   ]
  },
  {
   "cell_type": "code",
   "execution_count": 9,
   "id": "cd6d6a23",
   "metadata": {},
   "outputs": [],
   "source": [
    "dataset = dataset.astype('float32')"
   ]
  },
  {
   "cell_type": "code",
   "execution_count": 23,
   "id": "84cd8366",
   "metadata": {},
   "outputs": [],
   "source": [
    "#Define function to split sequence\n",
    "def split_sequence(sequence, n_steps):\n",
    "    X,y = list(), list()\n",
    "    for i in range(len(sequence)):\n",
    "        #find the end of this pattern\n",
    "        end_ix = i + n_steps\n",
    "        #check if we are beyond the sequence\n",
    "        if end_ix > len(sequence)-1:\n",
    "            break\n",
    "        #gather input and output parts of the pattern\n",
    "        seq_x, seq_y = sequence[i:end_ix], sequence[end_ix]\n",
    "        X.append(seq_x)\n",
    "        y.append(seq_y)\n",
    "    return np.array(X), np.array(y)"
   ]
  },
  {
   "cell_type": "code",
   "execution_count": 24,
   "id": "d8b6b5de",
   "metadata": {},
   "outputs": [],
   "source": [
    "scaler = MinMaxScaler(feature_range=(0,1))\n",
    "dataset = scaler.fit_transform(dataset)"
   ]
  },
  {
   "cell_type": "code",
   "execution_count": 25,
   "id": "f0db54b9",
   "metadata": {},
   "outputs": [
    {
     "name": "stdout",
     "output_type": "stream",
     "text": [
      "96 48\n"
     ]
    }
   ],
   "source": [
    "train_size = int(len(dataset) * 0.67)\n",
    "train, test = dataset[0:train_size,:], dataset[train_size:len(dataset),:]\n",
    "print(len(train), len(test))"
   ]
  },
  {
   "cell_type": "code",
   "execution_count": 26,
   "id": "7b756ca9",
   "metadata": {},
   "outputs": [],
   "source": [
    "n_steps = 12\n",
    "X_train, y_train = split_sequence(train, n_steps)\n",
    "X_test, y_test = split_sequence(test, n_steps)"
   ]
  },
  {
   "cell_type": "code",
   "execution_count": 27,
   "id": "66d9b485",
   "metadata": {
    "collapsed": true
   },
   "outputs": [
    {
     "data": {
      "text/plain": [
       "array([[[0.01544401],\n",
       "        [0.02702703],\n",
       "        [0.05405405],\n",
       "        [0.04826255],\n",
       "        [0.03281853],\n",
       "        [0.05984557],\n",
       "        [0.08494207],\n",
       "        [0.08494207],\n",
       "        [0.06177607],\n",
       "        [0.02895753],\n",
       "        [0.        ],\n",
       "        [0.02702703]],\n",
       "\n",
       "       [[0.02702703],\n",
       "        [0.05405405],\n",
       "        [0.04826255],\n",
       "        [0.03281853],\n",
       "        [0.05984557],\n",
       "        [0.08494207],\n",
       "        [0.08494207],\n",
       "        [0.06177607],\n",
       "        [0.02895753],\n",
       "        [0.        ],\n",
       "        [0.02702703],\n",
       "        [0.02123553]],\n",
       "\n",
       "       [[0.05405405],\n",
       "        [0.04826255],\n",
       "        [0.03281853],\n",
       "        [0.05984557],\n",
       "        [0.08494207],\n",
       "        [0.08494207],\n",
       "        [0.06177607],\n",
       "        [0.02895753],\n",
       "        [0.        ],\n",
       "        [0.02702703],\n",
       "        [0.02123553],\n",
       "        [0.04247104]]], dtype=float32)"
      ]
     },
     "execution_count": 27,
     "metadata": {},
     "output_type": "execute_result"
    }
   ],
   "source": [
    "X_train[:3]"
   ]
  },
  {
   "cell_type": "code",
   "execution_count": 28,
   "id": "d1ae3e14",
   "metadata": {},
   "outputs": [
    {
     "data": {
      "text/plain": [
       "(84, 12, 1)"
      ]
     },
     "execution_count": 28,
     "metadata": {},
     "output_type": "execute_result"
    }
   ],
   "source": [
    "X_train.shape"
   ]
  },
  {
   "cell_type": "code",
   "execution_count": 29,
   "id": "881294fc",
   "metadata": {},
   "outputs": [
    {
     "data": {
      "text/plain": [
       "array([[0.02123553],\n",
       "       [0.04247104]], dtype=float32)"
      ]
     },
     "execution_count": 29,
     "metadata": {},
     "output_type": "execute_result"
    }
   ],
   "source": [
    "y_train[:2]"
   ]
  },
  {
   "cell_type": "code",
   "execution_count": 30,
   "id": "f638fd1b",
   "metadata": {},
   "outputs": [
    {
     "data": {
      "text/plain": [
       "(36, 12, 1)"
      ]
     },
     "execution_count": 30,
     "metadata": {},
     "output_type": "execute_result"
    }
   ],
   "source": [
    "X_test.shape"
   ]
  },
  {
   "cell_type": "code",
   "execution_count": 31,
   "id": "903430c5",
   "metadata": {},
   "outputs": [
    {
     "data": {
      "text/plain": [
       "(36, 1)"
      ]
     },
     "execution_count": 31,
     "metadata": {},
     "output_type": "execute_result"
    }
   ],
   "source": [
    "y_test.shape"
   ]
  },
  {
   "cell_type": "code",
   "execution_count": 32,
   "id": "c944394e",
   "metadata": {},
   "outputs": [],
   "source": [
    "n_features = 1\n",
    "X_train = X_train.reshape(X_train.shape[0], X_train.shape[1], n_features)\n",
    "X_test = X_test.reshape((X_test.shape[0], X_test.shape[1], n_features))"
   ]
  },
  {
   "cell_type": "markdown",
   "id": "a1807511",
   "metadata": {},
   "source": [
    "## RNN Model for Regression"
   ]
  },
  {
   "cell_type": "code",
   "execution_count": 34,
   "id": "796e3fcf",
   "metadata": {},
   "outputs": [],
   "source": [
    "model = Sequential()\n",
    "model.add(SimpleRNN(2,activation='relu',input_shape=(n_steps, n_features)))\n",
    "model.add(Dense(1,activation='relu'))"
   ]
  },
  {
   "cell_type": "code",
   "execution_count": 35,
   "id": "25b1a09b",
   "metadata": {},
   "outputs": [
    {
     "name": "stdout",
     "output_type": "stream",
     "text": [
      "Model: \"sequential_1\"\n",
      "_________________________________________________________________\n",
      " Layer (type)                Output Shape              Param #   \n",
      "=================================================================\n",
      " simple_rnn (SimpleRNN)      (None, 2)                 8         \n",
      "                                                                 \n",
      " dense (Dense)               (None, 1)                 3         \n",
      "                                                                 \n",
      "=================================================================\n",
      "Total params: 11 (44.00 Byte)\n",
      "Trainable params: 11 (44.00 Byte)\n",
      "Non-trainable params: 0 (0.00 Byte)\n",
      "_________________________________________________________________\n"
     ]
    }
   ],
   "source": [
    "#Compile the model\n",
    "model.compile(optimizer='adam', loss='mse')\n",
    "model.summary()"
   ]
  },
  {
   "cell_type": "code",
   "execution_count": 36,
   "id": "93629da9",
   "metadata": {},
   "outputs": [
    {
     "name": "stdout",
     "output_type": "stream",
     "text": [
      "Epoch 1/50\n",
      "84/84 [==============================] - 2s 3ms/step - loss: 0.0727\n",
      "Epoch 2/50\n",
      "84/84 [==============================] - 0s 3ms/step - loss: 0.0727\n",
      "Epoch 3/50\n",
      "84/84 [==============================] - 0s 3ms/step - loss: 0.0727\n",
      "Epoch 4/50\n",
      "84/84 [==============================] - 0s 3ms/step - loss: 0.0727\n",
      "Epoch 5/50\n",
      "84/84 [==============================] - 0s 4ms/step - loss: 0.0727\n",
      "Epoch 6/50\n",
      "84/84 [==============================] - 0s 3ms/step - loss: 0.0727\n",
      "Epoch 7/50\n",
      "84/84 [==============================] - 0s 3ms/step - loss: 0.0727\n",
      "Epoch 8/50\n",
      "84/84 [==============================] - 0s 3ms/step - loss: 0.0727\n",
      "Epoch 9/50\n",
      "84/84 [==============================] - 0s 3ms/step - loss: 0.0727\n",
      "Epoch 10/50\n",
      "84/84 [==============================] - 0s 3ms/step - loss: 0.0727\n",
      "Epoch 11/50\n",
      "84/84 [==============================] - 0s 3ms/step - loss: 0.0727\n",
      "Epoch 12/50\n",
      "84/84 [==============================] - 0s 4ms/step - loss: 0.0727\n",
      "Epoch 13/50\n",
      "84/84 [==============================] - 0s 4ms/step - loss: 0.0727\n",
      "Epoch 14/50\n",
      "84/84 [==============================] - 0s 3ms/step - loss: 0.0727\n",
      "Epoch 15/50\n",
      "84/84 [==============================] - 0s 3ms/step - loss: 0.0727\n",
      "Epoch 16/50\n",
      "84/84 [==============================] - 0s 4ms/step - loss: 0.0727\n",
      "Epoch 17/50\n",
      "84/84 [==============================] - 0s 3ms/step - loss: 0.0727\n",
      "Epoch 18/50\n",
      "84/84 [==============================] - 0s 4ms/step - loss: 0.0727\n",
      "Epoch 19/50\n",
      "84/84 [==============================] - 0s 3ms/step - loss: 0.0727\n",
      "Epoch 20/50\n",
      "84/84 [==============================] - 0s 4ms/step - loss: 0.0727\n",
      "Epoch 21/50\n",
      "84/84 [==============================] - 0s 3ms/step - loss: 0.0727\n",
      "Epoch 22/50\n",
      "84/84 [==============================] - 0s 3ms/step - loss: 0.0727\n",
      "Epoch 23/50\n",
      "84/84 [==============================] - 0s 3ms/step - loss: 0.0727\n",
      "Epoch 24/50\n",
      "84/84 [==============================] - 0s 3ms/step - loss: 0.0727\n",
      "Epoch 25/50\n",
      "84/84 [==============================] - 0s 3ms/step - loss: 0.0727\n",
      "Epoch 26/50\n",
      "84/84 [==============================] - 0s 3ms/step - loss: 0.0727\n",
      "Epoch 27/50\n",
      "84/84 [==============================] - 0s 3ms/step - loss: 0.0727\n",
      "Epoch 28/50\n",
      "84/84 [==============================] - 0s 3ms/step - loss: 0.0727\n",
      "Epoch 29/50\n",
      "84/84 [==============================] - 0s 3ms/step - loss: 0.0727\n",
      "Epoch 30/50\n",
      "84/84 [==============================] - 0s 3ms/step - loss: 0.0727\n",
      "Epoch 31/50\n",
      "84/84 [==============================] - 0s 3ms/step - loss: 0.0727\n",
      "Epoch 32/50\n",
      "84/84 [==============================] - 0s 3ms/step - loss: 0.0727\n",
      "Epoch 33/50\n",
      "84/84 [==============================] - 0s 3ms/step - loss: 0.0727\n",
      "Epoch 34/50\n",
      "84/84 [==============================] - 0s 4ms/step - loss: 0.0727\n",
      "Epoch 35/50\n",
      "84/84 [==============================] - 0s 3ms/step - loss: 0.0727\n",
      "Epoch 36/50\n",
      "84/84 [==============================] - 0s 4ms/step - loss: 0.0727\n",
      "Epoch 37/50\n",
      "84/84 [==============================] - 0s 3ms/step - loss: 0.0727\n",
      "Epoch 38/50\n",
      "84/84 [==============================] - 0s 4ms/step - loss: 0.0727\n",
      "Epoch 39/50\n",
      "84/84 [==============================] - 0s 3ms/step - loss: 0.0727\n",
      "Epoch 40/50\n",
      "84/84 [==============================] - 0s 4ms/step - loss: 0.0727\n",
      "Epoch 41/50\n",
      "84/84 [==============================] - 0s 3ms/step - loss: 0.0727\n",
      "Epoch 42/50\n",
      "84/84 [==============================] - 0s 2ms/step - loss: 0.0727\n",
      "Epoch 43/50\n",
      "84/84 [==============================] - 0s 2ms/step - loss: 0.0727\n",
      "Epoch 44/50\n",
      "84/84 [==============================] - 0s 2ms/step - loss: 0.0727\n",
      "Epoch 45/50\n",
      "84/84 [==============================] - 0s 2ms/step - loss: 0.0727\n",
      "Epoch 46/50\n",
      "84/84 [==============================] - 0s 2ms/step - loss: 0.0727\n",
      "Epoch 47/50\n",
      "84/84 [==============================] - 0s 2ms/step - loss: 0.0727\n",
      "Epoch 48/50\n",
      "84/84 [==============================] - 0s 2ms/step - loss: 0.0727\n",
      "Epoch 49/50\n",
      "84/84 [==============================] - 0s 3ms/step - loss: 0.0727\n",
      "Epoch 50/50\n",
      "84/84 [==============================] - 0s 3ms/step - loss: 0.0727\n"
     ]
    },
    {
     "data": {
      "text/plain": [
       "<keras.src.callbacks.History at 0x27eccbc9d90>"
      ]
     },
     "execution_count": 36,
     "metadata": {},
     "output_type": "execute_result"
    }
   ],
   "source": [
    "model.fit(X_train, y_train, batch_size=1, epochs=50, verbose=1)"
   ]
  },
  {
   "cell_type": "code",
   "execution_count": 37,
   "id": "e10af8ac",
   "metadata": {},
   "outputs": [
    {
     "name": "stdout",
     "output_type": "stream",
     "text": [
      "3/3 [==============================] - 0s 4ms/step\n",
      "2/2 [==============================] - 0s 3ms/step\n"
     ]
    }
   ],
   "source": [
    "#make predictions\n",
    "trainPredict = model.predict(X_train)\n",
    "testPredict = model.predict(X_test)"
   ]
  },
  {
   "cell_type": "code",
   "execution_count": 38,
   "id": "a9c13ac9",
   "metadata": {},
   "outputs": [
    {
     "data": {
      "text/plain": [
       "(84, 1)"
      ]
     },
     "execution_count": 38,
     "metadata": {},
     "output_type": "execute_result"
    }
   ],
   "source": [
    "trainPredict.shape"
   ]
  },
  {
   "cell_type": "code",
   "execution_count": 39,
   "id": "96ea3f29",
   "metadata": {},
   "outputs": [
    {
     "data": {
      "text/plain": [
       "(36, 1)"
      ]
     },
     "execution_count": 39,
     "metadata": {},
     "output_type": "execute_result"
    }
   ],
   "source": [
    "testPredict.shape"
   ]
  },
  {
   "cell_type": "code",
   "execution_count": 41,
   "id": "119790be",
   "metadata": {},
   "outputs": [
    {
     "name": "stdout",
     "output_type": "stream",
     "text": [
      "Train RMSE: 0.270 RMSE\n",
      "Test RMSE: 0.644 RMSE\n"
     ]
    }
   ],
   "source": [
    "#error of predictions\n",
    "train_rmse=math.sqrt(mean_squared_error(y_train, trainPredict))\n",
    "test_rmse = math.sqrt(mean_squared_error(y_test, testPredict))\n",
    "# Print RMSE\n",
    "print('Train RMSE: %.3f RMSE' % (train_rmse))\n",
    "print('Test RMSE: %.3f RMSE' % (test_rmse))"
   ]
  },
  {
   "cell_type": "code",
   "execution_count": 43,
   "id": "16c9e253",
   "metadata": {},
   "outputs": [
    {
     "data": {
      "image/png": "[encoded data removed]",
      "text/plain": [
       "<Figure size 1200x480 with 1 Axes>"
      ]
     },
     "metadata": {},
     "output_type": "display_data"
    }
   ],
   "source": [
    "#Plot the result\n",
    "def plot_result(trainY, testY, train_predict, test_predict):\n",
    "    actual = np.append(trainY, testY)\n",
    "    predictions = np.append(train_predict, test_predict)\n",
    "    rows = len(actual)\n",
    "    plt.figure(figsize=(15,6), dpi=80)\n",
    "    plt.plot(range(rows), actual)\n",
    "    plt.plot(range(rows), predictions)\n",
    "    plt.axvline(x=len(trainY), color='r')\n",
    "    plt.legend(['Actual', 'Predictions'])\n",
    "    plt.xlabel('Observation number after given time steps')\n",
    "    \n",
    "plot_result(y_train,y_test, trainPredict, testPredict)"
   ]
  },
  {
   "cell_type": "code",
   "execution_count": null,
   "id": "bf708452",
   "metadata": {},
   "outputs": [],
   "source": []
  }
 ],
 "metadata": {
  "kernelspec": {
   "display_name": "Python 3 (ipykernel)",
   "language": "python",
   "name": "python3"
  },
  "language_info": {
   "codemirror_mode": {
    "name": "ipython",
    "version": 3
   },
   "file_extension": ".py",
   "mimetype": "text/x-python",
   "name": "python",
   "nbconvert_exporter": "python",
   "pygments_lexer": "ipython3",
   "version": "3.9.13"
  }
 },
 "nbformat": 4,
 "nbformat_minor": 5
}
